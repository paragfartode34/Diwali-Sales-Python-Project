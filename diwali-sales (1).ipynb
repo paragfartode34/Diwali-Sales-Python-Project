{
 "cells": [
  {
   "cell_type": "markdown",
   "id": "c52a4ee9",
   "metadata": {
    "_cell_guid": "b1076dfc-b9ad-4769-8c92-a6c4dae69d19",
    "_uuid": "8f2839f25d086af736a60e9eeb907d3b93b6e0e5",
    "execution": {
     "iopub.execute_input": "2024-03-31T10:43:46.688636Z",
     "iopub.status.busy": "2024-03-31T10:43:46.687857Z",
     "iopub.status.idle": "2024-03-31T10:43:46.733015Z",
     "shell.execute_reply": "2024-03-31T10:43:46.731795Z",
     "shell.execute_reply.started": "2024-03-31T10:43:46.688591Z"
    },
    "papermill": {
     "duration": 0.018473,
     "end_time": "2024-04-05T13:58:05.457994",
     "exception": false,
     "start_time": "2024-04-05T13:58:05.439521",
     "status": "completed"
    },
    "tags": []
   },
   "source": [
    "Project: Diwali Sales \n",
    "\n",
    "Dataset : sales-analysis-diwali\n",
    "    \n",
    "Introduction\n",
    "👋 Hello, everyone! My name is Parag Narendra Fartode, \n",
    "and I'm delighted to introduce myself to you. \n",
    "I am a Junior Data Analyst passionate about leveraging data to derive meaningful insights and \n",
    "drive impactful decisions. \n",
    "With a keen interest in exploring the realms of data science, \n",
    "I actively engage in various projects and share my learnings through platforms like Kaggle.¶\n",
    "\n",
    "About Me\n",
    "🔍 As a Junior Data Scientist, I immerse myself in the world of data, \n",
    "constantly seeking innovative ways to analyze, interpret,\n",
    "and visualize information to solve real-world problems.\n",
    "My journey in data science is fueled by a curiosity to unravel patterns, discover trends,\n",
    "and uncover hidden insights within complex datasets.\n",
    "\n",
    "\n",
    "My Work\n",
    "📊 I regularly upload my data analysis notebooks \n",
    "and projects on Kaggle, where I showcase my skills in data manipulation, \n",
    "exploratory data analysis (EDA), machine learning, and more. \n",
    "Through these notebooks, I aim to contribute to the data science community by sharing methodologies, \n",
    "code snippets, and insights gained from my projects.\n",
    "\n",
    "Passion & Goals\n",
    "💡 My passion for data science extends beyond technical skills.\n",
    "I am dedicated to continuous learning and improvement, staying updated \n",
    "with the latest advancements in the field.\n",
    "My ultimate goal is to harness the power of data to make a positive impact on society, \n",
    "whether it's through enhancing business strategies, addressing societal challenges, \n",
    "or driving innovation in various domains.\n",
    "\n",
    "Let's Connect\n",
    "🤝 I am always open to collaboration, knowledge sharing,\n",
    "and networking opportunities. \n",
    "Feel free to connect with me on Kaggle or other professional platforms to discuss data science, \n",
    "share ideas, \n",
    "or explore potential collaborations\n"
   ]
  },
  {
   "cell_type": "code",
   "execution_count": 1,
   "id": "dea692f0",
   "metadata": {
    "execution": {
     "iopub.execute_input": "2024-04-05T13:58:05.494271Z",
     "iopub.status.busy": "2024-04-05T13:58:05.493594Z",
     "iopub.status.idle": "2024-04-05T13:58:07.956799Z",
     "shell.execute_reply": "2024-04-05T13:58:07.955165Z"
    },
    "papermill": {
     "duration": 2.484325,
     "end_time": "2024-04-05T13:58:07.959709",
     "exception": false,
     "start_time": "2024-04-05T13:58:05.475384",
     "status": "completed"
    },
    "tags": []
   },
   "outputs": [],
   "source": [
    "# importing librarys\n",
    "import pandas as pd \n",
    "import matplotlib.pyplot as plt\n",
    "import numpy as np\n",
    "import seaborn as sns\n",
    "import warnings\n",
    "warnings.filterwarnings('ignore')"
   ]
  },
  {
   "cell_type": "code",
   "execution_count": 2,
   "id": "f83402db",
   "metadata": {
    "execution": {
     "iopub.execute_input": "2024-04-05T13:58:07.995189Z",
     "iopub.status.busy": "2024-04-05T13:58:07.994658Z",
     "iopub.status.idle": "2024-04-05T13:58:08.070981Z",
     "shell.execute_reply": "2024-04-05T13:58:08.069812Z"
    },
    "papermill": {
     "duration": 0.097345,
     "end_time": "2024-04-05T13:58:08.073894",
     "exception": false,
     "start_time": "2024-04-05T13:58:07.976549",
     "status": "completed"
    },
    "tags": []
   },
   "outputs": [],
   "source": [
    " # importing data\n",
    "df = pd.read_csv('/kaggle/input/sales-analysis-diwali/Diwali Sales Data.csv',encoding='unicode_escape')\n"
   ]
  },
  {
   "cell_type": "code",
   "execution_count": 3,
   "id": "8fe86bce",
   "metadata": {
    "execution": {
     "iopub.execute_input": "2024-04-05T13:58:08.111176Z",
     "iopub.status.busy": "2024-04-05T13:58:08.110372Z",
     "iopub.status.idle": "2024-04-05T13:58:08.134010Z",
     "shell.execute_reply": "2024-04-05T13:58:08.132874Z"
    },
    "papermill": {
     "duration": 0.044635,
     "end_time": "2024-04-05T13:58:08.136607",
     "exception": false,
     "start_time": "2024-04-05T13:58:08.091972",
     "status": "completed"
    },
    "tags": []
   },
   "outputs": [
    {
     "name": "stdout",
     "output_type": "stream",
     "text": [
      "       User_ID    Cust_name Product_ID Gender Age Group  Age  Marital_Status  \\\n",
      "0      1002903    Sanskriti  P00125942      F     26-35   28               0   \n",
      "1      1000732       Kartik  P00110942      F     26-35   35               1   \n",
      "2      1001990        Bindu  P00118542      F     26-35   35               1   \n",
      "3      1001425       Sudevi  P00237842      M      0-17   16               0   \n",
      "4      1000588         Joni  P00057942      M     26-35   28               1   \n",
      "...        ...          ...        ...    ...       ...  ...             ...   \n",
      "11246  1000695      Manning  P00296942      M     18-25   19               1   \n",
      "11247  1004089  Reichenbach  P00171342      M     26-35   33               0   \n",
      "11248  1001209        Oshin  P00201342      F     36-45   40               0   \n",
      "11249  1004023       Noonan  P00059442      M     36-45   37               0   \n",
      "11250  1002744      Brumley  P00281742      F     18-25   19               0   \n",
      "\n",
      "                State      Zone       Occupation Product_Category  Orders  \\\n",
      "0         Maharashtra   Western       Healthcare             Auto       1   \n",
      "1      Andhra Pradesh  Southern             Govt             Auto       3   \n",
      "2       Uttar Pradesh   Central       Automobile             Auto       3   \n",
      "3           Karnataka  Southern     Construction             Auto       2   \n",
      "4             Gujarat   Western  Food Processing             Auto       2   \n",
      "...               ...       ...              ...              ...     ...   \n",
      "11246     Maharashtra   Western         Chemical           Office       4   \n",
      "11247         Haryana  Northern       Healthcare       Veterinary       3   \n",
      "11248  Madhya Pradesh   Central          Textile           Office       4   \n",
      "11249       Karnataka  Southern      Agriculture           Office       3   \n",
      "11250     Maharashtra   Western       Healthcare           Office       3   \n",
      "\n",
      "        Amount  Status  unnamed1  \n",
      "0      23952.0     NaN       NaN  \n",
      "1      23934.0     NaN       NaN  \n",
      "2      23924.0     NaN       NaN  \n",
      "3      23912.0     NaN       NaN  \n",
      "4      23877.0     NaN       NaN  \n",
      "...        ...     ...       ...  \n",
      "11246    370.0     NaN       NaN  \n",
      "11247    367.0     NaN       NaN  \n",
      "11248    213.0     NaN       NaN  \n",
      "11249    206.0     NaN       NaN  \n",
      "11250    188.0     NaN       NaN  \n",
      "\n",
      "[11251 rows x 15 columns]\n"
     ]
    }
   ],
   "source": [
    "# Show data\n",
    "print(df)"
   ]
  },
  {
   "cell_type": "code",
   "execution_count": null,
   "id": "f393d050",
   "metadata": {
    "jupyter": {
     "source_hidden": true
    },
    "papermill": {
     "duration": 0.01663,
     "end_time": "2024-04-05T13:58:08.170308",
     "exception": false,
     "start_time": "2024-04-05T13:58:08.153678",
     "status": "completed"
    },
    "tags": []
   },
   "outputs": [],
   "source": []
  },
  {
   "cell_type": "markdown",
   "id": "b9208eb8",
   "metadata": {
    "papermill": {
     "duration": 0.01666,
     "end_time": "2024-04-05T13:58:08.204497",
     "exception": false,
     "start_time": "2024-04-05T13:58:08.187837",
     "status": "completed"
    },
    "tags": []
   },
   "source": [
    "# Data Cleaning"
   ]
  },
  {
   "cell_type": "code",
   "execution_count": 4,
   "id": "2f497efd",
   "metadata": {
    "execution": {
     "iopub.execute_input": "2024-04-05T13:58:08.240461Z",
     "iopub.status.busy": "2024-04-05T13:58:08.239822Z",
     "iopub.status.idle": "2024-04-05T13:58:08.247473Z",
     "shell.execute_reply": "2024-04-05T13:58:08.246335Z"
    },
    "papermill": {
     "duration": 0.028308,
     "end_time": "2024-04-05T13:58:08.249655",
     "exception": false,
     "start_time": "2024-04-05T13:58:08.221347",
     "status": "completed"
    },
    "tags": []
   },
   "outputs": [
    {
     "data": {
      "text/plain": [
       "(11251, 15)"
      ]
     },
     "execution_count": 4,
     "metadata": {},
     "output_type": "execute_result"
    }
   ],
   "source": [
    "# structure of dataframe\n",
    "df.shape"
   ]
  },
  {
   "cell_type": "code",
   "execution_count": 5,
   "id": "948a337c",
   "metadata": {
    "execution": {
     "iopub.execute_input": "2024-04-05T13:58:08.286079Z",
     "iopub.status.busy": "2024-04-05T13:58:08.285444Z",
     "iopub.status.idle": "2024-04-05T13:58:08.305912Z",
     "shell.execute_reply": "2024-04-05T13:58:08.304792Z"
    },
    "papermill": {
     "duration": 0.041841,
     "end_time": "2024-04-05T13:58:08.308689",
     "exception": false,
     "start_time": "2024-04-05T13:58:08.266848",
     "status": "completed"
    },
    "tags": []
   },
   "outputs": [
    {
     "data": {
      "text/html": [
       "<div>\n",
       "<style scoped>\n",
       "    .dataframe tbody tr th:only-of-type {\n",
       "        vertical-align: middle;\n",
       "    }\n",
       "\n",
       "    .dataframe tbody tr th {\n",
       "        vertical-align: top;\n",
       "    }\n",
       "\n",
       "    .dataframe thead th {\n",
       "        text-align: right;\n",
       "    }\n",
       "</style>\n",
       "<table border=\"1\" class=\"dataframe\">\n",
       "  <thead>\n",
       "    <tr style=\"text-align: right;\">\n",
       "      <th></th>\n",
       "      <th>User_ID</th>\n",
       "      <th>Cust_name</th>\n",
       "      <th>Product_ID</th>\n",
       "      <th>Gender</th>\n",
       "      <th>Age Group</th>\n",
       "      <th>Age</th>\n",
       "      <th>Marital_Status</th>\n",
       "      <th>State</th>\n",
       "      <th>Zone</th>\n",
       "      <th>Occupation</th>\n",
       "      <th>Product_Category</th>\n",
       "      <th>Orders</th>\n",
       "      <th>Amount</th>\n",
       "      <th>Status</th>\n",
       "      <th>unnamed1</th>\n",
       "    </tr>\n",
       "  </thead>\n",
       "  <tbody>\n",
       "    <tr>\n",
       "      <th>0</th>\n",
       "      <td>1002903</td>\n",
       "      <td>Sanskriti</td>\n",
       "      <td>P00125942</td>\n",
       "      <td>F</td>\n",
       "      <td>26-35</td>\n",
       "      <td>28</td>\n",
       "      <td>0</td>\n",
       "      <td>Maharashtra</td>\n",
       "      <td>Western</td>\n",
       "      <td>Healthcare</td>\n",
       "      <td>Auto</td>\n",
       "      <td>1</td>\n",
       "      <td>23952.0</td>\n",
       "      <td>NaN</td>\n",
       "      <td>NaN</td>\n",
       "    </tr>\n",
       "    <tr>\n",
       "      <th>1</th>\n",
       "      <td>1000732</td>\n",
       "      <td>Kartik</td>\n",
       "      <td>P00110942</td>\n",
       "      <td>F</td>\n",
       "      <td>26-35</td>\n",
       "      <td>35</td>\n",
       "      <td>1</td>\n",
       "      <td>Andhra Pradesh</td>\n",
       "      <td>Southern</td>\n",
       "      <td>Govt</td>\n",
       "      <td>Auto</td>\n",
       "      <td>3</td>\n",
       "      <td>23934.0</td>\n",
       "      <td>NaN</td>\n",
       "      <td>NaN</td>\n",
       "    </tr>\n",
       "    <tr>\n",
       "      <th>2</th>\n",
       "      <td>1001990</td>\n",
       "      <td>Bindu</td>\n",
       "      <td>P00118542</td>\n",
       "      <td>F</td>\n",
       "      <td>26-35</td>\n",
       "      <td>35</td>\n",
       "      <td>1</td>\n",
       "      <td>Uttar Pradesh</td>\n",
       "      <td>Central</td>\n",
       "      <td>Automobile</td>\n",
       "      <td>Auto</td>\n",
       "      <td>3</td>\n",
       "      <td>23924.0</td>\n",
       "      <td>NaN</td>\n",
       "      <td>NaN</td>\n",
       "    </tr>\n",
       "    <tr>\n",
       "      <th>3</th>\n",
       "      <td>1001425</td>\n",
       "      <td>Sudevi</td>\n",
       "      <td>P00237842</td>\n",
       "      <td>M</td>\n",
       "      <td>0-17</td>\n",
       "      <td>16</td>\n",
       "      <td>0</td>\n",
       "      <td>Karnataka</td>\n",
       "      <td>Southern</td>\n",
       "      <td>Construction</td>\n",
       "      <td>Auto</td>\n",
       "      <td>2</td>\n",
       "      <td>23912.0</td>\n",
       "      <td>NaN</td>\n",
       "      <td>NaN</td>\n",
       "    </tr>\n",
       "    <tr>\n",
       "      <th>4</th>\n",
       "      <td>1000588</td>\n",
       "      <td>Joni</td>\n",
       "      <td>P00057942</td>\n",
       "      <td>M</td>\n",
       "      <td>26-35</td>\n",
       "      <td>28</td>\n",
       "      <td>1</td>\n",
       "      <td>Gujarat</td>\n",
       "      <td>Western</td>\n",
       "      <td>Food Processing</td>\n",
       "      <td>Auto</td>\n",
       "      <td>2</td>\n",
       "      <td>23877.0</td>\n",
       "      <td>NaN</td>\n",
       "      <td>NaN</td>\n",
       "    </tr>\n",
       "  </tbody>\n",
       "</table>\n",
       "</div>"
      ],
      "text/plain": [
       "   User_ID  Cust_name Product_ID Gender Age Group  Age  Marital_Status  \\\n",
       "0  1002903  Sanskriti  P00125942      F     26-35   28               0   \n",
       "1  1000732     Kartik  P00110942      F     26-35   35               1   \n",
       "2  1001990      Bindu  P00118542      F     26-35   35               1   \n",
       "3  1001425     Sudevi  P00237842      M      0-17   16               0   \n",
       "4  1000588       Joni  P00057942      M     26-35   28               1   \n",
       "\n",
       "            State      Zone       Occupation Product_Category  Orders  \\\n",
       "0     Maharashtra   Western       Healthcare             Auto       1   \n",
       "1  Andhra Pradesh  Southern             Govt             Auto       3   \n",
       "2   Uttar Pradesh   Central       Automobile             Auto       3   \n",
       "3       Karnataka  Southern     Construction             Auto       2   \n",
       "4         Gujarat   Western  Food Processing             Auto       2   \n",
       "\n",
       "    Amount  Status  unnamed1  \n",
       "0  23952.0     NaN       NaN  \n",
       "1  23934.0     NaN       NaN  \n",
       "2  23924.0     NaN       NaN  \n",
       "3  23912.0     NaN       NaN  \n",
       "4  23877.0     NaN       NaN  "
      ]
     },
     "execution_count": 5,
     "metadata": {},
     "output_type": "execute_result"
    }
   ],
   "source": [
    "# see top data\n",
    "df.head()"
   ]
  },
  {
   "cell_type": "code",
   "execution_count": 6,
   "id": "611c3eb0",
   "metadata": {
    "execution": {
     "iopub.execute_input": "2024-04-05T13:58:08.345415Z",
     "iopub.status.busy": "2024-04-05T13:58:08.345014Z",
     "iopub.status.idle": "2024-04-05T13:58:08.365064Z",
     "shell.execute_reply": "2024-04-05T13:58:08.363824Z"
    },
    "papermill": {
     "duration": 0.04196,
     "end_time": "2024-04-05T13:58:08.368143",
     "exception": false,
     "start_time": "2024-04-05T13:58:08.326183",
     "status": "completed"
    },
    "tags": []
   },
   "outputs": [
    {
     "data": {
      "text/html": [
       "<div>\n",
       "<style scoped>\n",
       "    .dataframe tbody tr th:only-of-type {\n",
       "        vertical-align: middle;\n",
       "    }\n",
       "\n",
       "    .dataframe tbody tr th {\n",
       "        vertical-align: top;\n",
       "    }\n",
       "\n",
       "    .dataframe thead th {\n",
       "        text-align: right;\n",
       "    }\n",
       "</style>\n",
       "<table border=\"1\" class=\"dataframe\">\n",
       "  <thead>\n",
       "    <tr style=\"text-align: right;\">\n",
       "      <th></th>\n",
       "      <th>User_ID</th>\n",
       "      <th>Cust_name</th>\n",
       "      <th>Product_ID</th>\n",
       "      <th>Gender</th>\n",
       "      <th>Age Group</th>\n",
       "      <th>Age</th>\n",
       "      <th>Marital_Status</th>\n",
       "      <th>State</th>\n",
       "      <th>Zone</th>\n",
       "      <th>Occupation</th>\n",
       "      <th>Product_Category</th>\n",
       "      <th>Orders</th>\n",
       "      <th>Amount</th>\n",
       "      <th>Status</th>\n",
       "      <th>unnamed1</th>\n",
       "    </tr>\n",
       "  </thead>\n",
       "  <tbody>\n",
       "    <tr>\n",
       "      <th>11246</th>\n",
       "      <td>1000695</td>\n",
       "      <td>Manning</td>\n",
       "      <td>P00296942</td>\n",
       "      <td>M</td>\n",
       "      <td>18-25</td>\n",
       "      <td>19</td>\n",
       "      <td>1</td>\n",
       "      <td>Maharashtra</td>\n",
       "      <td>Western</td>\n",
       "      <td>Chemical</td>\n",
       "      <td>Office</td>\n",
       "      <td>4</td>\n",
       "      <td>370.0</td>\n",
       "      <td>NaN</td>\n",
       "      <td>NaN</td>\n",
       "    </tr>\n",
       "    <tr>\n",
       "      <th>11247</th>\n",
       "      <td>1004089</td>\n",
       "      <td>Reichenbach</td>\n",
       "      <td>P00171342</td>\n",
       "      <td>M</td>\n",
       "      <td>26-35</td>\n",
       "      <td>33</td>\n",
       "      <td>0</td>\n",
       "      <td>Haryana</td>\n",
       "      <td>Northern</td>\n",
       "      <td>Healthcare</td>\n",
       "      <td>Veterinary</td>\n",
       "      <td>3</td>\n",
       "      <td>367.0</td>\n",
       "      <td>NaN</td>\n",
       "      <td>NaN</td>\n",
       "    </tr>\n",
       "    <tr>\n",
       "      <th>11248</th>\n",
       "      <td>1001209</td>\n",
       "      <td>Oshin</td>\n",
       "      <td>P00201342</td>\n",
       "      <td>F</td>\n",
       "      <td>36-45</td>\n",
       "      <td>40</td>\n",
       "      <td>0</td>\n",
       "      <td>Madhya Pradesh</td>\n",
       "      <td>Central</td>\n",
       "      <td>Textile</td>\n",
       "      <td>Office</td>\n",
       "      <td>4</td>\n",
       "      <td>213.0</td>\n",
       "      <td>NaN</td>\n",
       "      <td>NaN</td>\n",
       "    </tr>\n",
       "    <tr>\n",
       "      <th>11249</th>\n",
       "      <td>1004023</td>\n",
       "      <td>Noonan</td>\n",
       "      <td>P00059442</td>\n",
       "      <td>M</td>\n",
       "      <td>36-45</td>\n",
       "      <td>37</td>\n",
       "      <td>0</td>\n",
       "      <td>Karnataka</td>\n",
       "      <td>Southern</td>\n",
       "      <td>Agriculture</td>\n",
       "      <td>Office</td>\n",
       "      <td>3</td>\n",
       "      <td>206.0</td>\n",
       "      <td>NaN</td>\n",
       "      <td>NaN</td>\n",
       "    </tr>\n",
       "    <tr>\n",
       "      <th>11250</th>\n",
       "      <td>1002744</td>\n",
       "      <td>Brumley</td>\n",
       "      <td>P00281742</td>\n",
       "      <td>F</td>\n",
       "      <td>18-25</td>\n",
       "      <td>19</td>\n",
       "      <td>0</td>\n",
       "      <td>Maharashtra</td>\n",
       "      <td>Western</td>\n",
       "      <td>Healthcare</td>\n",
       "      <td>Office</td>\n",
       "      <td>3</td>\n",
       "      <td>188.0</td>\n",
       "      <td>NaN</td>\n",
       "      <td>NaN</td>\n",
       "    </tr>\n",
       "  </tbody>\n",
       "</table>\n",
       "</div>"
      ],
      "text/plain": [
       "       User_ID    Cust_name Product_ID Gender Age Group  Age  Marital_Status  \\\n",
       "11246  1000695      Manning  P00296942      M     18-25   19               1   \n",
       "11247  1004089  Reichenbach  P00171342      M     26-35   33               0   \n",
       "11248  1001209        Oshin  P00201342      F     36-45   40               0   \n",
       "11249  1004023       Noonan  P00059442      M     36-45   37               0   \n",
       "11250  1002744      Brumley  P00281742      F     18-25   19               0   \n",
       "\n",
       "                State      Zone   Occupation Product_Category  Orders  Amount  \\\n",
       "11246     Maharashtra   Western     Chemical           Office       4   370.0   \n",
       "11247         Haryana  Northern   Healthcare       Veterinary       3   367.0   \n",
       "11248  Madhya Pradesh   Central      Textile           Office       4   213.0   \n",
       "11249       Karnataka  Southern  Agriculture           Office       3   206.0   \n",
       "11250     Maharashtra   Western   Healthcare           Office       3   188.0   \n",
       "\n",
       "       Status  unnamed1  \n",
       "11246     NaN       NaN  \n",
       "11247     NaN       NaN  \n",
       "11248     NaN       NaN  \n",
       "11249     NaN       NaN  \n",
       "11250     NaN       NaN  "
      ]
     },
     "execution_count": 6,
     "metadata": {},
     "output_type": "execute_result"
    }
   ],
   "source": [
    "# see bottom data\n",
    "df.tail()"
   ]
  },
  {
   "cell_type": "code",
   "execution_count": 7,
   "id": "215d360c",
   "metadata": {
    "execution": {
     "iopub.execute_input": "2024-04-05T13:58:08.406547Z",
     "iopub.status.busy": "2024-04-05T13:58:08.406111Z",
     "iopub.status.idle": "2024-04-05T13:58:08.441564Z",
     "shell.execute_reply": "2024-04-05T13:58:08.440019Z"
    },
    "papermill": {
     "duration": 0.057496,
     "end_time": "2024-04-05T13:58:08.444420",
     "exception": false,
     "start_time": "2024-04-05T13:58:08.386924",
     "status": "completed"
    },
    "tags": []
   },
   "outputs": [
    {
     "name": "stdout",
     "output_type": "stream",
     "text": [
      "<class 'pandas.core.frame.DataFrame'>\n",
      "RangeIndex: 11251 entries, 0 to 11250\n",
      "Data columns (total 15 columns):\n",
      " #   Column            Non-Null Count  Dtype  \n",
      "---  ------            --------------  -----  \n",
      " 0   User_ID           11251 non-null  int64  \n",
      " 1   Cust_name         11251 non-null  object \n",
      " 2   Product_ID        11251 non-null  object \n",
      " 3   Gender            11251 non-null  object \n",
      " 4   Age Group         11251 non-null  object \n",
      " 5   Age               11251 non-null  int64  \n",
      " 6   Marital_Status    11251 non-null  int64  \n",
      " 7   State             11251 non-null  object \n",
      " 8   Zone              11251 non-null  object \n",
      " 9   Occupation        11251 non-null  object \n",
      " 10  Product_Category  11251 non-null  object \n",
      " 11  Orders            11251 non-null  int64  \n",
      " 12  Amount            11239 non-null  float64\n",
      " 13  Status            0 non-null      float64\n",
      " 14  unnamed1          0 non-null      float64\n",
      "dtypes: float64(3), int64(4), object(8)\n",
      "memory usage: 1.3+ MB\n"
     ]
    }
   ],
   "source": [
    "# information of data\n",
    "df.info()"
   ]
  },
  {
   "cell_type": "code",
   "execution_count": 8,
   "id": "55782c2b",
   "metadata": {
    "execution": {
     "iopub.execute_input": "2024-04-05T13:58:08.482955Z",
     "iopub.status.busy": "2024-04-05T13:58:08.482576Z",
     "iopub.status.idle": "2024-04-05T13:58:08.492071Z",
     "shell.execute_reply": "2024-04-05T13:58:08.490657Z"
    },
    "papermill": {
     "duration": 0.031369,
     "end_time": "2024-04-05T13:58:08.494577",
     "exception": false,
     "start_time": "2024-04-05T13:58:08.463208",
     "status": "completed"
    },
    "tags": []
   },
   "outputs": [],
   "source": [
    "# i found null values in status and unnamed1 i have to delete those null columns\n",
    "df.drop(['Status','unnamed1'],axis=1,inplace=True)"
   ]
  },
  {
   "cell_type": "code",
   "execution_count": 9,
   "id": "2ddd0af6",
   "metadata": {
    "execution": {
     "iopub.execute_input": "2024-04-05T13:58:08.533623Z",
     "iopub.status.busy": "2024-04-05T13:58:08.533189Z",
     "iopub.status.idle": "2024-04-05T13:58:08.539880Z",
     "shell.execute_reply": "2024-04-05T13:58:08.539021Z"
    },
    "papermill": {
     "duration": 0.028924,
     "end_time": "2024-04-05T13:58:08.542228",
     "exception": false,
     "start_time": "2024-04-05T13:58:08.513304",
     "status": "completed"
    },
    "tags": []
   },
   "outputs": [
    {
     "data": {
      "text/plain": [
       "(11251, 13)"
      ]
     },
     "execution_count": 9,
     "metadata": {},
     "output_type": "execute_result"
    }
   ],
   "source": [
    "# Check Done or not\n",
    "df.shape"
   ]
  },
  {
   "cell_type": "code",
   "execution_count": 10,
   "id": "e02586f3",
   "metadata": {
    "execution": {
     "iopub.execute_input": "2024-04-05T13:58:08.581372Z",
     "iopub.status.busy": "2024-04-05T13:58:08.580662Z",
     "iopub.status.idle": "2024-04-05T13:58:08.611191Z",
     "shell.execute_reply": "2024-04-05T13:58:08.610062Z"
    },
    "papermill": {
     "duration": 0.052388,
     "end_time": "2024-04-05T13:58:08.613522",
     "exception": false,
     "start_time": "2024-04-05T13:58:08.561134",
     "status": "completed"
    },
    "tags": []
   },
   "outputs": [
    {
     "data": {
      "text/html": [
       "<div>\n",
       "<style scoped>\n",
       "    .dataframe tbody tr th:only-of-type {\n",
       "        vertical-align: middle;\n",
       "    }\n",
       "\n",
       "    .dataframe tbody tr th {\n",
       "        vertical-align: top;\n",
       "    }\n",
       "\n",
       "    .dataframe thead th {\n",
       "        text-align: right;\n",
       "    }\n",
       "</style>\n",
       "<table border=\"1\" class=\"dataframe\">\n",
       "  <thead>\n",
       "    <tr style=\"text-align: right;\">\n",
       "      <th></th>\n",
       "      <th>User_ID</th>\n",
       "      <th>Cust_name</th>\n",
       "      <th>Product_ID</th>\n",
       "      <th>Gender</th>\n",
       "      <th>Age Group</th>\n",
       "      <th>Age</th>\n",
       "      <th>Marital_Status</th>\n",
       "      <th>State</th>\n",
       "      <th>Zone</th>\n",
       "      <th>Occupation</th>\n",
       "      <th>Product_Category</th>\n",
       "      <th>Orders</th>\n",
       "      <th>Amount</th>\n",
       "    </tr>\n",
       "  </thead>\n",
       "  <tbody>\n",
       "    <tr>\n",
       "      <th>0</th>\n",
       "      <td>False</td>\n",
       "      <td>False</td>\n",
       "      <td>False</td>\n",
       "      <td>False</td>\n",
       "      <td>False</td>\n",
       "      <td>False</td>\n",
       "      <td>False</td>\n",
       "      <td>False</td>\n",
       "      <td>False</td>\n",
       "      <td>False</td>\n",
       "      <td>False</td>\n",
       "      <td>False</td>\n",
       "      <td>False</td>\n",
       "    </tr>\n",
       "    <tr>\n",
       "      <th>1</th>\n",
       "      <td>False</td>\n",
       "      <td>False</td>\n",
       "      <td>False</td>\n",
       "      <td>False</td>\n",
       "      <td>False</td>\n",
       "      <td>False</td>\n",
       "      <td>False</td>\n",
       "      <td>False</td>\n",
       "      <td>False</td>\n",
       "      <td>False</td>\n",
       "      <td>False</td>\n",
       "      <td>False</td>\n",
       "      <td>False</td>\n",
       "    </tr>\n",
       "    <tr>\n",
       "      <th>2</th>\n",
       "      <td>False</td>\n",
       "      <td>False</td>\n",
       "      <td>False</td>\n",
       "      <td>False</td>\n",
       "      <td>False</td>\n",
       "      <td>False</td>\n",
       "      <td>False</td>\n",
       "      <td>False</td>\n",
       "      <td>False</td>\n",
       "      <td>False</td>\n",
       "      <td>False</td>\n",
       "      <td>False</td>\n",
       "      <td>False</td>\n",
       "    </tr>\n",
       "    <tr>\n",
       "      <th>3</th>\n",
       "      <td>False</td>\n",
       "      <td>False</td>\n",
       "      <td>False</td>\n",
       "      <td>False</td>\n",
       "      <td>False</td>\n",
       "      <td>False</td>\n",
       "      <td>False</td>\n",
       "      <td>False</td>\n",
       "      <td>False</td>\n",
       "      <td>False</td>\n",
       "      <td>False</td>\n",
       "      <td>False</td>\n",
       "      <td>False</td>\n",
       "    </tr>\n",
       "    <tr>\n",
       "      <th>4</th>\n",
       "      <td>False</td>\n",
       "      <td>False</td>\n",
       "      <td>False</td>\n",
       "      <td>False</td>\n",
       "      <td>False</td>\n",
       "      <td>False</td>\n",
       "      <td>False</td>\n",
       "      <td>False</td>\n",
       "      <td>False</td>\n",
       "      <td>False</td>\n",
       "      <td>False</td>\n",
       "      <td>False</td>\n",
       "      <td>False</td>\n",
       "    </tr>\n",
       "    <tr>\n",
       "      <th>...</th>\n",
       "      <td>...</td>\n",
       "      <td>...</td>\n",
       "      <td>...</td>\n",
       "      <td>...</td>\n",
       "      <td>...</td>\n",
       "      <td>...</td>\n",
       "      <td>...</td>\n",
       "      <td>...</td>\n",
       "      <td>...</td>\n",
       "      <td>...</td>\n",
       "      <td>...</td>\n",
       "      <td>...</td>\n",
       "      <td>...</td>\n",
       "    </tr>\n",
       "    <tr>\n",
       "      <th>11246</th>\n",
       "      <td>False</td>\n",
       "      <td>False</td>\n",
       "      <td>False</td>\n",
       "      <td>False</td>\n",
       "      <td>False</td>\n",
       "      <td>False</td>\n",
       "      <td>False</td>\n",
       "      <td>False</td>\n",
       "      <td>False</td>\n",
       "      <td>False</td>\n",
       "      <td>False</td>\n",
       "      <td>False</td>\n",
       "      <td>False</td>\n",
       "    </tr>\n",
       "    <tr>\n",
       "      <th>11247</th>\n",
       "      <td>False</td>\n",
       "      <td>False</td>\n",
       "      <td>False</td>\n",
       "      <td>False</td>\n",
       "      <td>False</td>\n",
       "      <td>False</td>\n",
       "      <td>False</td>\n",
       "      <td>False</td>\n",
       "      <td>False</td>\n",
       "      <td>False</td>\n",
       "      <td>False</td>\n",
       "      <td>False</td>\n",
       "      <td>False</td>\n",
       "    </tr>\n",
       "    <tr>\n",
       "      <th>11248</th>\n",
       "      <td>False</td>\n",
       "      <td>False</td>\n",
       "      <td>False</td>\n",
       "      <td>False</td>\n",
       "      <td>False</td>\n",
       "      <td>False</td>\n",
       "      <td>False</td>\n",
       "      <td>False</td>\n",
       "      <td>False</td>\n",
       "      <td>False</td>\n",
       "      <td>False</td>\n",
       "      <td>False</td>\n",
       "      <td>False</td>\n",
       "    </tr>\n",
       "    <tr>\n",
       "      <th>11249</th>\n",
       "      <td>False</td>\n",
       "      <td>False</td>\n",
       "      <td>False</td>\n",
       "      <td>False</td>\n",
       "      <td>False</td>\n",
       "      <td>False</td>\n",
       "      <td>False</td>\n",
       "      <td>False</td>\n",
       "      <td>False</td>\n",
       "      <td>False</td>\n",
       "      <td>False</td>\n",
       "      <td>False</td>\n",
       "      <td>False</td>\n",
       "    </tr>\n",
       "    <tr>\n",
       "      <th>11250</th>\n",
       "      <td>False</td>\n",
       "      <td>False</td>\n",
       "      <td>False</td>\n",
       "      <td>False</td>\n",
       "      <td>False</td>\n",
       "      <td>False</td>\n",
       "      <td>False</td>\n",
       "      <td>False</td>\n",
       "      <td>False</td>\n",
       "      <td>False</td>\n",
       "      <td>False</td>\n",
       "      <td>False</td>\n",
       "      <td>False</td>\n",
       "    </tr>\n",
       "  </tbody>\n",
       "</table>\n",
       "<p>11251 rows × 13 columns</p>\n",
       "</div>"
      ],
      "text/plain": [
       "       User_ID  Cust_name  Product_ID  Gender  Age Group    Age  \\\n",
       "0        False      False       False   False      False  False   \n",
       "1        False      False       False   False      False  False   \n",
       "2        False      False       False   False      False  False   \n",
       "3        False      False       False   False      False  False   \n",
       "4        False      False       False   False      False  False   \n",
       "...        ...        ...         ...     ...        ...    ...   \n",
       "11246    False      False       False   False      False  False   \n",
       "11247    False      False       False   False      False  False   \n",
       "11248    False      False       False   False      False  False   \n",
       "11249    False      False       False   False      False  False   \n",
       "11250    False      False       False   False      False  False   \n",
       "\n",
       "       Marital_Status  State   Zone  Occupation  Product_Category  Orders  \\\n",
       "0               False  False  False       False             False   False   \n",
       "1               False  False  False       False             False   False   \n",
       "2               False  False  False       False             False   False   \n",
       "3               False  False  False       False             False   False   \n",
       "4               False  False  False       False             False   False   \n",
       "...               ...    ...    ...         ...               ...     ...   \n",
       "11246           False  False  False       False             False   False   \n",
       "11247           False  False  False       False             False   False   \n",
       "11248           False  False  False       False             False   False   \n",
       "11249           False  False  False       False             False   False   \n",
       "11250           False  False  False       False             False   False   \n",
       "\n",
       "       Amount  \n",
       "0       False  \n",
       "1       False  \n",
       "2       False  \n",
       "3       False  \n",
       "4       False  \n",
       "...       ...  \n",
       "11246   False  \n",
       "11247   False  \n",
       "11248   False  \n",
       "11249   False  \n",
       "11250   False  \n",
       "\n",
       "[11251 rows x 13 columns]"
      ]
     },
     "execution_count": 10,
     "metadata": {},
     "output_type": "execute_result"
    }
   ],
   "source": [
    "# any null values in rows or coloumns check again\n",
    "pd.isnull(df)"
   ]
  },
  {
   "cell_type": "code",
   "execution_count": 11,
   "id": "cecbe3f5",
   "metadata": {
    "execution": {
     "iopub.execute_input": "2024-04-05T13:58:08.652769Z",
     "iopub.status.busy": "2024-04-05T13:58:08.652352Z",
     "iopub.status.idle": "2024-04-05T13:58:08.671912Z",
     "shell.execute_reply": "2024-04-05T13:58:08.670850Z"
    },
    "papermill": {
     "duration": 0.041837,
     "end_time": "2024-04-05T13:58:08.674143",
     "exception": false,
     "start_time": "2024-04-05T13:58:08.632306",
     "status": "completed"
    },
    "tags": []
   },
   "outputs": [
    {
     "data": {
      "text/plain": [
       "User_ID              0\n",
       "Cust_name            0\n",
       "Product_ID           0\n",
       "Gender               0\n",
       "Age Group            0\n",
       "Age                  0\n",
       "Marital_Status       0\n",
       "State                0\n",
       "Zone                 0\n",
       "Occupation           0\n",
       "Product_Category     0\n",
       "Orders               0\n",
       "Amount              12\n",
       "dtype: int64"
      ]
     },
     "execution_count": 11,
     "metadata": {},
     "output_type": "execute_result"
    }
   ],
   "source": [
    "# i get confused here now i will find totals of sum\n",
    "pd.isnull(df).sum()"
   ]
  },
  {
   "cell_type": "code",
   "execution_count": 12,
   "id": "0dd3cfa2",
   "metadata": {
    "execution": {
     "iopub.execute_input": "2024-04-05T13:58:08.713836Z",
     "iopub.status.busy": "2024-04-05T13:58:08.713418Z",
     "iopub.status.idle": "2024-04-05T13:58:08.731291Z",
     "shell.execute_reply": "2024-04-05T13:58:08.730167Z"
    },
    "papermill": {
     "duration": 0.040667,
     "end_time": "2024-04-05T13:58:08.733826",
     "exception": false,
     "start_time": "2024-04-05T13:58:08.693159",
     "status": "completed"
    },
    "tags": []
   },
   "outputs": [],
   "source": [
    "# found 12 null values in amount table i will delete those\n",
    "df.dropna(inplace=True)"
   ]
  },
  {
   "cell_type": "code",
   "execution_count": 13,
   "id": "5e8a187d",
   "metadata": {
    "execution": {
     "iopub.execute_input": "2024-04-05T13:58:08.773122Z",
     "iopub.status.busy": "2024-04-05T13:58:08.772723Z",
     "iopub.status.idle": "2024-04-05T13:58:08.779954Z",
     "shell.execute_reply": "2024-04-05T13:58:08.778647Z"
    },
    "papermill": {
     "duration": 0.030431,
     "end_time": "2024-04-05T13:58:08.783008",
     "exception": false,
     "start_time": "2024-04-05T13:58:08.752577",
     "status": "completed"
    },
    "tags": []
   },
   "outputs": [
    {
     "data": {
      "text/plain": [
       "(11239, 13)"
      ]
     },
     "execution_count": 13,
     "metadata": {},
     "output_type": "execute_result"
    }
   ],
   "source": [
    "# check shape of data frame\n",
    "df.shape"
   ]
  },
  {
   "cell_type": "code",
   "execution_count": 14,
   "id": "951507bb",
   "metadata": {
    "execution": {
     "iopub.execute_input": "2024-04-05T13:58:08.823819Z",
     "iopub.status.busy": "2024-04-05T13:58:08.823386Z",
     "iopub.status.idle": "2024-04-05T13:58:08.846572Z",
     "shell.execute_reply": "2024-04-05T13:58:08.844759Z"
    },
    "papermill": {
     "duration": 0.046309,
     "end_time": "2024-04-05T13:58:08.849065",
     "exception": false,
     "start_time": "2024-04-05T13:58:08.802756",
     "status": "completed"
    },
    "tags": []
   },
   "outputs": [
    {
     "name": "stdout",
     "output_type": "stream",
     "text": [
      "<class 'pandas.core.frame.DataFrame'>\n",
      "Index: 11239 entries, 0 to 11250\n",
      "Data columns (total 13 columns):\n",
      " #   Column            Non-Null Count  Dtype  \n",
      "---  ------            --------------  -----  \n",
      " 0   User_ID           11239 non-null  int64  \n",
      " 1   Cust_name         11239 non-null  object \n",
      " 2   Product_ID        11239 non-null  object \n",
      " 3   Gender            11239 non-null  object \n",
      " 4   Age Group         11239 non-null  object \n",
      " 5   Age               11239 non-null  int64  \n",
      " 6   Marital_Status    11239 non-null  int64  \n",
      " 7   State             11239 non-null  object \n",
      " 8   Zone              11239 non-null  object \n",
      " 9   Occupation        11239 non-null  object \n",
      " 10  Product_Category  11239 non-null  object \n",
      " 11  Orders            11239 non-null  int64  \n",
      " 12  Amount            11239 non-null  float64\n",
      "dtypes: float64(1), int64(4), object(8)\n",
      "memory usage: 1.2+ MB\n"
     ]
    }
   ],
   "source": [
    "# check data types\n",
    "df.info()"
   ]
  },
  {
   "cell_type": "code",
   "execution_count": 15,
   "id": "c3a15683",
   "metadata": {
    "execution": {
     "iopub.execute_input": "2024-04-05T13:58:08.888994Z",
     "iopub.status.busy": "2024-04-05T13:58:08.888628Z",
     "iopub.status.idle": "2024-04-05T13:58:08.893959Z",
     "shell.execute_reply": "2024-04-05T13:58:08.892848Z"
    },
    "papermill": {
     "duration": 0.028066,
     "end_time": "2024-04-05T13:58:08.896224",
     "exception": false,
     "start_time": "2024-04-05T13:58:08.868158",
     "status": "completed"
    },
    "tags": []
   },
   "outputs": [],
   "source": [
    "# found datatype of Amount is float64 i have to change it to int variable\n",
    "df['Amount']=df['Amount'].astype('int')"
   ]
  },
  {
   "cell_type": "code",
   "execution_count": 16,
   "id": "eec62473",
   "metadata": {
    "execution": {
     "iopub.execute_input": "2024-04-05T13:58:08.937780Z",
     "iopub.status.busy": "2024-04-05T13:58:08.936977Z",
     "iopub.status.idle": "2024-04-05T13:58:08.944404Z",
     "shell.execute_reply": "2024-04-05T13:58:08.943369Z"
    },
    "papermill": {
     "duration": 0.030572,
     "end_time": "2024-04-05T13:58:08.946763",
     "exception": false,
     "start_time": "2024-04-05T13:58:08.916191",
     "status": "completed"
    },
    "tags": []
   },
   "outputs": [
    {
     "data": {
      "text/plain": [
       "dtype('int64')"
      ]
     },
     "execution_count": 16,
     "metadata": {},
     "output_type": "execute_result"
    }
   ],
   "source": [
    "# check datatype of amount\n",
    "df['Amount'].dtypes"
   ]
  },
  {
   "cell_type": "code",
   "execution_count": 17,
   "id": "9959d1b3",
   "metadata": {
    "execution": {
     "iopub.execute_input": "2024-04-05T13:58:08.987781Z",
     "iopub.status.busy": "2024-04-05T13:58:08.987138Z",
     "iopub.status.idle": "2024-04-05T13:58:08.993916Z",
     "shell.execute_reply": "2024-04-05T13:58:08.992821Z"
    },
    "papermill": {
     "duration": 0.030051,
     "end_time": "2024-04-05T13:58:08.996007",
     "exception": false,
     "start_time": "2024-04-05T13:58:08.965956",
     "status": "completed"
    },
    "tags": []
   },
   "outputs": [
    {
     "data": {
      "text/plain": [
       "Index(['User_ID', 'Cust_name', 'Product_ID', 'Gender', 'Age Group', 'Age',\n",
       "       'Marital_Status', 'State', 'Zone', 'Occupation', 'Product_Category',\n",
       "       'Orders', 'Amount'],\n",
       "      dtype='object')"
      ]
     },
     "execution_count": 17,
     "metadata": {},
     "output_type": "execute_result"
    }
   ],
   "source": [
    "# Check columns headings\n",
    "df.columns"
   ]
  },
  {
   "cell_type": "code",
   "execution_count": 18,
   "id": "6bf920f0",
   "metadata": {
    "execution": {
     "iopub.execute_input": "2024-04-05T13:58:09.037030Z",
     "iopub.status.busy": "2024-04-05T13:58:09.036396Z",
     "iopub.status.idle": "2024-04-05T13:58:09.065979Z",
     "shell.execute_reply": "2024-04-05T13:58:09.064863Z"
    },
    "papermill": {
     "duration": 0.053354,
     "end_time": "2024-04-05T13:58:09.068410",
     "exception": false,
     "start_time": "2024-04-05T13:58:09.015056",
     "status": "completed"
    },
    "tags": []
   },
   "outputs": [
    {
     "data": {
      "text/html": [
       "<div>\n",
       "<style scoped>\n",
       "    .dataframe tbody tr th:only-of-type {\n",
       "        vertical-align: middle;\n",
       "    }\n",
       "\n",
       "    .dataframe tbody tr th {\n",
       "        vertical-align: top;\n",
       "    }\n",
       "\n",
       "    .dataframe thead th {\n",
       "        text-align: right;\n",
       "    }\n",
       "</style>\n",
       "<table border=\"1\" class=\"dataframe\">\n",
       "  <thead>\n",
       "    <tr style=\"text-align: right;\">\n",
       "      <th></th>\n",
       "      <th>User_ID</th>\n",
       "      <th>Age</th>\n",
       "      <th>Marital_Status</th>\n",
       "      <th>Orders</th>\n",
       "      <th>Amount</th>\n",
       "    </tr>\n",
       "  </thead>\n",
       "  <tbody>\n",
       "    <tr>\n",
       "      <th>count</th>\n",
       "      <td>1.123900e+04</td>\n",
       "      <td>11239.000000</td>\n",
       "      <td>11239.000000</td>\n",
       "      <td>11239.000000</td>\n",
       "      <td>11239.000000</td>\n",
       "    </tr>\n",
       "    <tr>\n",
       "      <th>mean</th>\n",
       "      <td>1.003004e+06</td>\n",
       "      <td>35.410357</td>\n",
       "      <td>0.420055</td>\n",
       "      <td>2.489634</td>\n",
       "      <td>9453.610553</td>\n",
       "    </tr>\n",
       "    <tr>\n",
       "      <th>std</th>\n",
       "      <td>1.716039e+03</td>\n",
       "      <td>12.753866</td>\n",
       "      <td>0.493589</td>\n",
       "      <td>1.114967</td>\n",
       "      <td>5222.355168</td>\n",
       "    </tr>\n",
       "    <tr>\n",
       "      <th>min</th>\n",
       "      <td>1.000001e+06</td>\n",
       "      <td>12.000000</td>\n",
       "      <td>0.000000</td>\n",
       "      <td>1.000000</td>\n",
       "      <td>188.000000</td>\n",
       "    </tr>\n",
       "    <tr>\n",
       "      <th>25%</th>\n",
       "      <td>1.001492e+06</td>\n",
       "      <td>27.000000</td>\n",
       "      <td>0.000000</td>\n",
       "      <td>2.000000</td>\n",
       "      <td>5443.000000</td>\n",
       "    </tr>\n",
       "    <tr>\n",
       "      <th>50%</th>\n",
       "      <td>1.003064e+06</td>\n",
       "      <td>33.000000</td>\n",
       "      <td>0.000000</td>\n",
       "      <td>2.000000</td>\n",
       "      <td>8109.000000</td>\n",
       "    </tr>\n",
       "    <tr>\n",
       "      <th>75%</th>\n",
       "      <td>1.004426e+06</td>\n",
       "      <td>43.000000</td>\n",
       "      <td>1.000000</td>\n",
       "      <td>3.000000</td>\n",
       "      <td>12675.000000</td>\n",
       "    </tr>\n",
       "    <tr>\n",
       "      <th>max</th>\n",
       "      <td>1.006040e+06</td>\n",
       "      <td>92.000000</td>\n",
       "      <td>1.000000</td>\n",
       "      <td>4.000000</td>\n",
       "      <td>23952.000000</td>\n",
       "    </tr>\n",
       "  </tbody>\n",
       "</table>\n",
       "</div>"
      ],
      "text/plain": [
       "            User_ID           Age  Marital_Status        Orders        Amount\n",
       "count  1.123900e+04  11239.000000    11239.000000  11239.000000  11239.000000\n",
       "mean   1.003004e+06     35.410357        0.420055      2.489634   9453.610553\n",
       "std    1.716039e+03     12.753866        0.493589      1.114967   5222.355168\n",
       "min    1.000001e+06     12.000000        0.000000      1.000000    188.000000\n",
       "25%    1.001492e+06     27.000000        0.000000      2.000000   5443.000000\n",
       "50%    1.003064e+06     33.000000        0.000000      2.000000   8109.000000\n",
       "75%    1.004426e+06     43.000000        1.000000      3.000000  12675.000000\n",
       "max    1.006040e+06     92.000000        1.000000      4.000000  23952.000000"
      ]
     },
     "execution_count": 18,
     "metadata": {},
     "output_type": "execute_result"
    }
   ],
   "source": [
    "# Check mean count min max std of the data\n",
    "df.describe()"
   ]
  },
  {
   "cell_type": "code",
   "execution_count": 19,
   "id": "6600a6e2",
   "metadata": {
    "execution": {
     "iopub.execute_input": "2024-04-05T13:58:09.172175Z",
     "iopub.status.busy": "2024-04-05T13:58:09.171525Z",
     "iopub.status.idle": "2024-04-05T13:58:09.192852Z",
     "shell.execute_reply": "2024-04-05T13:58:09.191706Z"
    },
    "papermill": {
     "duration": 0.106604,
     "end_time": "2024-04-05T13:58:09.195187",
     "exception": false,
     "start_time": "2024-04-05T13:58:09.088583",
     "status": "completed"
    },
    "tags": []
   },
   "outputs": [
    {
     "data": {
      "text/html": [
       "<div>\n",
       "<style scoped>\n",
       "    .dataframe tbody tr th:only-of-type {\n",
       "        vertical-align: middle;\n",
       "    }\n",
       "\n",
       "    .dataframe tbody tr th {\n",
       "        vertical-align: top;\n",
       "    }\n",
       "\n",
       "    .dataframe thead th {\n",
       "        text-align: right;\n",
       "    }\n",
       "</style>\n",
       "<table border=\"1\" class=\"dataframe\">\n",
       "  <thead>\n",
       "    <tr style=\"text-align: right;\">\n",
       "      <th></th>\n",
       "      <th>Age</th>\n",
       "      <th>Orders</th>\n",
       "      <th>Amount</th>\n",
       "    </tr>\n",
       "  </thead>\n",
       "  <tbody>\n",
       "    <tr>\n",
       "      <th>count</th>\n",
       "      <td>11239.000000</td>\n",
       "      <td>11239.000000</td>\n",
       "      <td>11239.000000</td>\n",
       "    </tr>\n",
       "    <tr>\n",
       "      <th>mean</th>\n",
       "      <td>35.410357</td>\n",
       "      <td>2.489634</td>\n",
       "      <td>9453.610553</td>\n",
       "    </tr>\n",
       "    <tr>\n",
       "      <th>std</th>\n",
       "      <td>12.753866</td>\n",
       "      <td>1.114967</td>\n",
       "      <td>5222.355168</td>\n",
       "    </tr>\n",
       "    <tr>\n",
       "      <th>min</th>\n",
       "      <td>12.000000</td>\n",
       "      <td>1.000000</td>\n",
       "      <td>188.000000</td>\n",
       "    </tr>\n",
       "    <tr>\n",
       "      <th>25%</th>\n",
       "      <td>27.000000</td>\n",
       "      <td>2.000000</td>\n",
       "      <td>5443.000000</td>\n",
       "    </tr>\n",
       "    <tr>\n",
       "      <th>50%</th>\n",
       "      <td>33.000000</td>\n",
       "      <td>2.000000</td>\n",
       "      <td>8109.000000</td>\n",
       "    </tr>\n",
       "    <tr>\n",
       "      <th>75%</th>\n",
       "      <td>43.000000</td>\n",
       "      <td>3.000000</td>\n",
       "      <td>12675.000000</td>\n",
       "    </tr>\n",
       "    <tr>\n",
       "      <th>max</th>\n",
       "      <td>92.000000</td>\n",
       "      <td>4.000000</td>\n",
       "      <td>23952.000000</td>\n",
       "    </tr>\n",
       "  </tbody>\n",
       "</table>\n",
       "</div>"
      ],
      "text/plain": [
       "                Age        Orders        Amount\n",
       "count  11239.000000  11239.000000  11239.000000\n",
       "mean      35.410357      2.489634   9453.610553\n",
       "std       12.753866      1.114967   5222.355168\n",
       "min       12.000000      1.000000    188.000000\n",
       "25%       27.000000      2.000000   5443.000000\n",
       "50%       33.000000      2.000000   8109.000000\n",
       "75%       43.000000      3.000000  12675.000000\n",
       "max       92.000000      4.000000  23952.000000"
      ]
     },
     "execution_count": 19,
     "metadata": {},
     "output_type": "execute_result"
    }
   ],
   "source": [
    "# Check only for Age,Orders,Amount\n",
    "df[['Age','Orders','Amount']].describe()"
   ]
  },
  {
   "cell_type": "markdown",
   "id": "574364ba",
   "metadata": {
    "papermill": {
     "duration": 0.020873,
     "end_time": "2024-04-05T13:58:09.236681",
     "exception": false,
     "start_time": "2024-04-05T13:58:09.215808",
     "status": "completed"
    },
    "tags": []
   },
   "source": [
    " # Exploratory Data Analysis"
   ]
  },
  {
   "cell_type": "markdown",
   "id": "789b6d44",
   "metadata": {
    "execution": {
     "iopub.execute_input": "2024-03-31T02:56:12.219872Z",
     "iopub.status.busy": "2024-03-31T02:56:12.219476Z",
     "iopub.status.idle": "2024-03-31T02:56:12.224148Z",
     "shell.execute_reply": "2024-03-31T02:56:12.223232Z",
     "shell.execute_reply.started": "2024-03-31T02:56:12.219840Z"
    },
    "papermill": {
     "duration": 0.019582,
     "end_time": "2024-04-05T13:58:09.276261",
     "exception": false,
     "start_time": "2024-04-05T13:58:09.256679",
     "status": "completed"
    },
    "tags": []
   },
   "source": [
    "# Gender"
   ]
  },
  {
   "cell_type": "code",
   "execution_count": 20,
   "id": "7acce92f",
   "metadata": {
    "execution": {
     "iopub.execute_input": "2024-04-05T13:58:09.318451Z",
     "iopub.status.busy": "2024-04-05T13:58:09.317438Z",
     "iopub.status.idle": "2024-04-05T13:58:09.325230Z",
     "shell.execute_reply": "2024-04-05T13:58:09.323976Z"
    },
    "papermill": {
     "duration": 0.031527,
     "end_time": "2024-04-05T13:58:09.327803",
     "exception": false,
     "start_time": "2024-04-05T13:58:09.296276",
     "status": "completed"
    },
    "tags": []
   },
   "outputs": [
    {
     "data": {
      "text/plain": [
       "Index(['User_ID', 'Cust_name', 'Product_ID', 'Gender', 'Age Group', 'Age',\n",
       "       'Marital_Status', 'State', 'Zone', 'Occupation', 'Product_Category',\n",
       "       'Orders', 'Amount'],\n",
       "      dtype='object')"
      ]
     },
     "execution_count": 20,
     "metadata": {},
     "output_type": "execute_result"
    }
   ],
   "source": [
    "# Making Easy Visualization \n",
    "df.columns"
   ]
  },
  {
   "cell_type": "code",
   "execution_count": 21,
   "id": "cd703e08",
   "metadata": {
    "execution": {
     "iopub.execute_input": "2024-04-05T13:58:09.370808Z",
     "iopub.status.busy": "2024-04-05T13:58:09.370421Z",
     "iopub.status.idle": "2024-04-05T13:58:09.754638Z",
     "shell.execute_reply": "2024-04-05T13:58:09.753411Z"
    },
    "papermill": {
     "duration": 0.408148,
     "end_time": "2024-04-05T13:58:09.757064",
     "exception": false,
     "start_time": "2024-04-05T13:58:09.348916",
     "status": "completed"
    },
    "tags": []
   },
   "outputs": [
    {
     "data": {
      "image/png": "[encoded data removed]",
      "text/plain": [
       "<Figure size 640x480 with 1 Axes>"
      ]
     },
     "metadata": {},
     "output_type": "display_data"
    }
   ],
   "source": [
    "# Lets see count of Gender Male Female\n",
    "ax=sns.countplot(x='Gender',data=df)\n",
    "for bars in ax.containers:\n",
    "    ax.bar_label(bars)"
   ]
  },
  {
   "cell_type": "code",
   "execution_count": 22,
   "id": "93b4440d",
   "metadata": {
    "execution": {
     "iopub.execute_input": "2024-04-05T13:58:09.801643Z",
     "iopub.status.busy": "2024-04-05T13:58:09.801211Z",
     "iopub.status.idle": "2024-04-05T13:58:09.814600Z",
     "shell.execute_reply": "2024-04-05T13:58:09.813745Z"
    },
    "papermill": {
     "duration": 0.039136,
     "end_time": "2024-04-05T13:58:09.816806",
     "exception": false,
     "start_time": "2024-04-05T13:58:09.777670",
     "status": "completed"
    },
    "tags": []
   },
   "outputs": [
    {
     "data": {
      "text/html": [
       "<div>\n",
       "<style scoped>\n",
       "    .dataframe tbody tr th:only-of-type {\n",
       "        vertical-align: middle;\n",
       "    }\n",
       "\n",
       "    .dataframe tbody tr th {\n",
       "        vertical-align: top;\n",
       "    }\n",
       "\n",
       "    .dataframe thead th {\n",
       "        text-align: right;\n",
       "    }\n",
       "</style>\n",
       "<table border=\"1\" class=\"dataframe\">\n",
       "  <thead>\n",
       "    <tr style=\"text-align: right;\">\n",
       "      <th></th>\n",
       "      <th>Gender</th>\n",
       "      <th>Amount</th>\n",
       "    </tr>\n",
       "  </thead>\n",
       "  <tbody>\n",
       "    <tr>\n",
       "      <th>0</th>\n",
       "      <td>F</td>\n",
       "      <td>74335853</td>\n",
       "    </tr>\n",
       "    <tr>\n",
       "      <th>1</th>\n",
       "      <td>M</td>\n",
       "      <td>31913276</td>\n",
       "    </tr>\n",
       "  </tbody>\n",
       "</table>\n",
       "</div>"
      ],
      "text/plain": [
       "  Gender    Amount\n",
       "0      F  74335853\n",
       "1      M  31913276"
      ]
     },
     "execution_count": 22,
     "metadata": {},
     "output_type": "execute_result"
    }
   ],
   "source": [
    "# Gender to Sales, we also want to check male spends more money or females let see\n",
    "df.groupby(['Gender'],as_index=False)['Amount'].sum().sort_values(by='Amount',ascending=False)\n"
   ]
  },
  {
   "cell_type": "code",
   "execution_count": 23,
   "id": "22cf00cf",
   "metadata": {
    "execution": {
     "iopub.execute_input": "2024-04-05T13:58:09.861414Z",
     "iopub.status.busy": "2024-04-05T13:58:09.860048Z",
     "iopub.status.idle": "2024-04-05T13:58:10.102341Z",
     "shell.execute_reply": "2024-04-05T13:58:10.101303Z"
    },
    "papermill": {
     "duration": 0.267893,
     "end_time": "2024-04-05T13:58:10.105570",
     "exception": false,
     "start_time": "2024-04-05T13:58:09.837677",
     "status": "completed"
    },
    "tags": []
   },
   "outputs": [
    {
     "data": {
      "text/plain": [
       "<Axes: xlabel='Gender', ylabel='Amount'>"
      ]
     },
     "execution_count": 23,
     "metadata": {},
     "output_type": "execute_result"
    },
    {
     "data": {
      "image/png": "[encoded data removed]",
      "text/plain": [
       "<Figure size 640x480 with 1 Axes>"
      ]
     },
     "metadata": {},
     "output_type": "display_data"
    }
   ],
   "source": [
    "#let see by Barplot\n",
    "sales_gen = df.groupby(['Gender'],as_index=False)['Amount'].sum().sort_values(by='Amount',ascending=False)\n",
    "sns.barplot(x='Gender',y='Amount',data=sales_gen)"
   ]
  },
  {
   "cell_type": "markdown",
   "id": "8e275ea4",
   "metadata": {
    "papermill": {
     "duration": 0.021925,
     "end_time": "2024-04-05T13:58:10.148822",
     "exception": false,
     "start_time": "2024-04-05T13:58:10.126897",
     "status": "completed"
    },
    "tags": []
   },
   "source": [
    "**From the above findings we get information that . Females are more in our data i.e 7832 and thier purchasing power is also more i.e 74335853 and Males are 3407 and porchasing power is 31913276"
   ]
  },
  {
   "cell_type": "markdown",
   "id": "9785eb6e",
   "metadata": {
    "execution": {
     "iopub.execute_input": "2024-03-31T03:26:36.762680Z",
     "iopub.status.busy": "2024-03-31T03:26:36.761827Z",
     "iopub.status.idle": "2024-03-31T03:26:36.766942Z",
     "shell.execute_reply": "2024-03-31T03:26:36.765827Z",
     "shell.execute_reply.started": "2024-03-31T03:26:36.762640Z"
    },
    "papermill": {
     "duration": 0.021173,
     "end_time": "2024-04-05T13:58:10.191448",
     "exception": false,
     "start_time": "2024-04-05T13:58:10.170275",
     "status": "completed"
    },
    "tags": []
   },
   "source": [
    "# Age"
   ]
  },
  {
   "cell_type": "code",
   "execution_count": 24,
   "id": "eaf50e80",
   "metadata": {
    "execution": {
     "iopub.execute_input": "2024-04-05T13:58:10.236212Z",
     "iopub.status.busy": "2024-04-05T13:58:10.235814Z",
     "iopub.status.idle": "2024-04-05T13:58:10.681063Z",
     "shell.execute_reply": "2024-04-05T13:58:10.680044Z"
    },
    "papermill": {
     "duration": 0.473209,
     "end_time": "2024-04-05T13:58:10.686077",
     "exception": false,
     "start_time": "2024-04-05T13:58:10.212868",
     "status": "completed"
    },
    "tags": []
   },
   "outputs": [
    {
     "data": {
      "image/png": "[encoded data removed]",
      "text/plain": [
       "<Figure size 640x480 with 1 Axes>"
      ]
     },
     "metadata": {},
     "output_type": "display_data"
    }
   ],
   "source": [
    "# let see Age group with genders\n",
    "ax=sns.countplot(x='Age Group',data=df,hue='Gender')\n",
    "for bars in ax.containers:\n",
    "    ax.bar_label(bars)"
   ]
  },
  {
   "cell_type": "code",
   "execution_count": 25,
   "id": "cc2007f6",
   "metadata": {
    "execution": {
     "iopub.execute_input": "2024-04-05T13:58:10.732867Z",
     "iopub.status.busy": "2024-04-05T13:58:10.732417Z",
     "iopub.status.idle": "2024-04-05T13:58:10.747121Z",
     "shell.execute_reply": "2024-04-05T13:58:10.745781Z"
    },
    "papermill": {
     "duration": 0.041498,
     "end_time": "2024-04-05T13:58:10.750085",
     "exception": false,
     "start_time": "2024-04-05T13:58:10.708587",
     "status": "completed"
    },
    "tags": []
   },
   "outputs": [
    {
     "data": {
      "text/html": [
       "<div>\n",
       "<style scoped>\n",
       "    .dataframe tbody tr th:only-of-type {\n",
       "        vertical-align: middle;\n",
       "    }\n",
       "\n",
       "    .dataframe tbody tr th {\n",
       "        vertical-align: top;\n",
       "    }\n",
       "\n",
       "    .dataframe thead th {\n",
       "        text-align: right;\n",
       "    }\n",
       "</style>\n",
       "<table border=\"1\" class=\"dataframe\">\n",
       "  <thead>\n",
       "    <tr style=\"text-align: right;\">\n",
       "      <th></th>\n",
       "      <th>Age Group</th>\n",
       "      <th>Amount</th>\n",
       "    </tr>\n",
       "  </thead>\n",
       "  <tbody>\n",
       "    <tr>\n",
       "      <th>2</th>\n",
       "      <td>26-35</td>\n",
       "      <td>42613442</td>\n",
       "    </tr>\n",
       "    <tr>\n",
       "      <th>3</th>\n",
       "      <td>36-45</td>\n",
       "      <td>22144994</td>\n",
       "    </tr>\n",
       "    <tr>\n",
       "      <th>1</th>\n",
       "      <td>18-25</td>\n",
       "      <td>17240732</td>\n",
       "    </tr>\n",
       "    <tr>\n",
       "      <th>4</th>\n",
       "      <td>46-50</td>\n",
       "      <td>9207844</td>\n",
       "    </tr>\n",
       "    <tr>\n",
       "      <th>5</th>\n",
       "      <td>51-55</td>\n",
       "      <td>8261477</td>\n",
       "    </tr>\n",
       "    <tr>\n",
       "      <th>6</th>\n",
       "      <td>55+</td>\n",
       "      <td>4080987</td>\n",
       "    </tr>\n",
       "    <tr>\n",
       "      <th>0</th>\n",
       "      <td>0-17</td>\n",
       "      <td>2699653</td>\n",
       "    </tr>\n",
       "  </tbody>\n",
       "</table>\n",
       "</div>"
      ],
      "text/plain": [
       "  Age Group    Amount\n",
       "2     26-35  42613442\n",
       "3     36-45  22144994\n",
       "1     18-25  17240732\n",
       "4     46-50   9207844\n",
       "5     51-55   8261477\n",
       "6       55+   4080987\n",
       "0      0-17   2699653"
      ]
     },
     "execution_count": 25,
     "metadata": {},
     "output_type": "execute_result"
    }
   ],
   "source": [
    "# Now lets check with Age Group amount spent\n",
    "df.groupby(['Age Group'],as_index=False)['Amount'].sum().sort_values(by='Amount',ascending=False)"
   ]
  },
  {
   "cell_type": "code",
   "execution_count": 26,
   "id": "f38e87d2",
   "metadata": {
    "execution": {
     "iopub.execute_input": "2024-04-05T13:58:10.806581Z",
     "iopub.status.busy": "2024-04-05T13:58:10.806071Z",
     "iopub.status.idle": "2024-04-05T13:58:11.154252Z",
     "shell.execute_reply": "2024-04-05T13:58:11.152990Z"
    },
    "papermill": {
     "duration": 0.3818,
     "end_time": "2024-04-05T13:58:11.156806",
     "exception": false,
     "start_time": "2024-04-05T13:58:10.775006",
     "status": "completed"
    },
    "tags": []
   },
   "outputs": [
    {
     "data": {
      "text/plain": [
       "<Axes: xlabel='Age Group', ylabel='Amount'>"
      ]
     },
     "execution_count": 26,
     "metadata": {},
     "output_type": "execute_result"
    },
    {
     "data": {
      "image/png": "[encoded data removed]",
      "text/plain": [
       "<Figure size 640x480 with 1 Axes>"
      ]
     },
     "metadata": {},
     "output_type": "display_data"
    }
   ],
   "source": [
    "# lets see by Barplot\n",
    "Age_group=df.groupby(['Age Group'],as_index=False)['Amount'].sum().sort_values(by='Amount',ascending=False)\n",
    "sns.barplot(x='Age Group',y='Amount',data=Age_group)"
   ]
  },
  {
   "cell_type": "markdown",
   "id": "b5f35eb4",
   "metadata": {
    "papermill": {
     "duration": 0.022789,
     "end_time": "2024-04-05T13:58:11.202460",
     "exception": false,
     "start_time": "2024-04-05T13:58:11.179671",
     "status": "completed"
    },
    "tags": []
   },
   "source": [
    "** from the above findings we can see age group of 26-35 are purchasing more i.e 42613442 among the females i.e 3269 are more and males i.e  are less 1272"
   ]
  },
  {
   "cell_type": "markdown",
   "id": "fd668f27",
   "metadata": {
    "papermill": {
     "duration": 0.022844,
     "end_time": "2024-04-05T13:58:11.249047",
     "exception": false,
     "start_time": "2024-04-05T13:58:11.226203",
     "status": "completed"
    },
    "tags": []
   },
   "source": [
    "# State to Orders"
   ]
  },
  {
   "cell_type": "code",
   "execution_count": 27,
   "id": "a8b5cd4c",
   "metadata": {
    "execution": {
     "iopub.execute_input": "2024-04-05T13:58:11.303309Z",
     "iopub.status.busy": "2024-04-05T13:58:11.302362Z",
     "iopub.status.idle": "2024-04-05T13:58:11.319438Z",
     "shell.execute_reply": "2024-04-05T13:58:11.318220Z"
    },
    "papermill": {
     "duration": 0.047786,
     "end_time": "2024-04-05T13:58:11.322035",
     "exception": false,
     "start_time": "2024-04-05T13:58:11.274249",
     "status": "completed"
    },
    "tags": []
   },
   "outputs": [
    {
     "data": {
      "text/html": [
       "<div>\n",
       "<style scoped>\n",
       "    .dataframe tbody tr th:only-of-type {\n",
       "        vertical-align: middle;\n",
       "    }\n",
       "\n",
       "    .dataframe tbody tr th {\n",
       "        vertical-align: top;\n",
       "    }\n",
       "\n",
       "    .dataframe thead th {\n",
       "        text-align: right;\n",
       "    }\n",
       "</style>\n",
       "<table border=\"1\" class=\"dataframe\">\n",
       "  <thead>\n",
       "    <tr style=\"text-align: right;\">\n",
       "      <th></th>\n",
       "      <th>State</th>\n",
       "      <th>Orders</th>\n",
       "    </tr>\n",
       "  </thead>\n",
       "  <tbody>\n",
       "    <tr>\n",
       "      <th>14</th>\n",
       "      <td>Uttar Pradesh</td>\n",
       "      <td>4807</td>\n",
       "    </tr>\n",
       "    <tr>\n",
       "      <th>10</th>\n",
       "      <td>Maharashtra</td>\n",
       "      <td>3810</td>\n",
       "    </tr>\n",
       "    <tr>\n",
       "      <th>7</th>\n",
       "      <td>Karnataka</td>\n",
       "      <td>3240</td>\n",
       "    </tr>\n",
       "    <tr>\n",
       "      <th>2</th>\n",
       "      <td>Delhi</td>\n",
       "      <td>2740</td>\n",
       "    </tr>\n",
       "    <tr>\n",
       "      <th>9</th>\n",
       "      <td>Madhya Pradesh</td>\n",
       "      <td>2252</td>\n",
       "    </tr>\n",
       "    <tr>\n",
       "      <th>0</th>\n",
       "      <td>Andhra Pradesh</td>\n",
       "      <td>2051</td>\n",
       "    </tr>\n",
       "    <tr>\n",
       "      <th>5</th>\n",
       "      <td>Himachal Pradesh</td>\n",
       "      <td>1568</td>\n",
       "    </tr>\n",
       "    <tr>\n",
       "      <th>8</th>\n",
       "      <td>Kerala</td>\n",
       "      <td>1137</td>\n",
       "    </tr>\n",
       "    <tr>\n",
       "      <th>4</th>\n",
       "      <td>Haryana</td>\n",
       "      <td>1109</td>\n",
       "    </tr>\n",
       "    <tr>\n",
       "      <th>3</th>\n",
       "      <td>Gujarat</td>\n",
       "      <td>1066</td>\n",
       "    </tr>\n",
       "  </tbody>\n",
       "</table>\n",
       "</div>"
      ],
      "text/plain": [
       "               State  Orders\n",
       "14     Uttar Pradesh    4807\n",
       "10       Maharashtra    3810\n",
       "7          Karnataka    3240\n",
       "2              Delhi    2740\n",
       "9     Madhya Pradesh    2252\n",
       "0     Andhra Pradesh    2051\n",
       "5   Himachal Pradesh    1568\n",
       "8             Kerala    1137\n",
       "4            Haryana    1109\n",
       "3            Gujarat    1066"
      ]
     },
     "execution_count": 27,
     "metadata": {},
     "output_type": "execute_result"
    }
   ],
   "source": [
    "# let see state by orders\n",
    "df.groupby(['State'],as_index=False)['Orders'].sum().sort_values(by='Orders',ascending=False).head(10)"
   ]
  },
  {
   "cell_type": "code",
   "execution_count": 28,
   "id": "1757046e",
   "metadata": {
    "execution": {
     "iopub.execute_input": "2024-04-05T13:58:11.372383Z",
     "iopub.status.busy": "2024-04-05T13:58:11.371587Z",
     "iopub.status.idle": "2024-04-05T13:58:11.838181Z",
     "shell.execute_reply": "2024-04-05T13:58:11.836851Z"
    },
    "papermill": {
     "duration": 0.494869,
     "end_time": "2024-04-05T13:58:11.841045",
     "exception": false,
     "start_time": "2024-04-05T13:58:11.346176",
     "status": "completed"
    },
    "tags": []
   },
   "outputs": [
    {
     "data": {
      "text/plain": [
       "<Axes: xlabel='State', ylabel='Orders'>"
      ]
     },
     "execution_count": 28,
     "metadata": {},
     "output_type": "execute_result"
    },
    {
     "data": {
      "image/png": "[encoded data removed]",
      "text/plain": [
       "<Figure size 1800x500 with 1 Axes>"
      ]
     },
     "metadata": {},
     "output_type": "display_data"
    }
   ],
   "source": [
    "# graphical representation\n",
    "state_orders=df.groupby(['State'],as_index=False)['Orders'].sum().sort_values(by='Orders',ascending=False).head(10)\n",
    "sns.set(rc={'figure.figsize':(18,5)})\n",
    "sns.barplot(x='State',y='Orders',data=state_orders)"
   ]
  },
  {
   "cell_type": "code",
   "execution_count": 29,
   "id": "d8240984",
   "metadata": {
    "execution": {
     "iopub.execute_input": "2024-04-05T13:58:11.891702Z",
     "iopub.status.busy": "2024-04-05T13:58:11.891289Z",
     "iopub.status.idle": "2024-04-05T13:58:11.895893Z",
     "shell.execute_reply": "2024-04-05T13:58:11.894678Z"
    },
    "papermill": {
     "duration": 0.033205,
     "end_time": "2024-04-05T13:58:11.898595",
     "exception": false,
     "start_time": "2024-04-05T13:58:11.865390",
     "status": "completed"
    },
    "tags": []
   },
   "outputs": [],
   "source": [
    "## From above finding we most orders done from UttarPradesh,Maharashtra"
   ]
  },
  {
   "cell_type": "markdown",
   "id": "f242e52c",
   "metadata": {
    "papermill": {
     "duration": 0.023972,
     "end_time": "2024-04-05T13:58:11.947610",
     "exception": false,
     "start_time": "2024-04-05T13:58:11.923638",
     "status": "completed"
    },
    "tags": []
   },
   "source": [
    "# State to amount"
   ]
  },
  {
   "cell_type": "code",
   "execution_count": 30,
   "id": "2398cb83",
   "metadata": {
    "execution": {
     "iopub.execute_input": "2024-04-05T13:58:11.998997Z",
     "iopub.status.busy": "2024-04-05T13:58:11.998190Z",
     "iopub.status.idle": "2024-04-05T13:58:12.013378Z",
     "shell.execute_reply": "2024-04-05T13:58:12.012210Z"
    },
    "papermill": {
     "duration": 0.043813,
     "end_time": "2024-04-05T13:58:12.015827",
     "exception": false,
     "start_time": "2024-04-05T13:58:11.972014",
     "status": "completed"
    },
    "tags": []
   },
   "outputs": [
    {
     "data": {
      "text/html": [
       "<div>\n",
       "<style scoped>\n",
       "    .dataframe tbody tr th:only-of-type {\n",
       "        vertical-align: middle;\n",
       "    }\n",
       "\n",
       "    .dataframe tbody tr th {\n",
       "        vertical-align: top;\n",
       "    }\n",
       "\n",
       "    .dataframe thead th {\n",
       "        text-align: right;\n",
       "    }\n",
       "</style>\n",
       "<table border=\"1\" class=\"dataframe\">\n",
       "  <thead>\n",
       "    <tr style=\"text-align: right;\">\n",
       "      <th></th>\n",
       "      <th>State</th>\n",
       "      <th>Amount</th>\n",
       "    </tr>\n",
       "  </thead>\n",
       "  <tbody>\n",
       "    <tr>\n",
       "      <th>14</th>\n",
       "      <td>Uttar Pradesh</td>\n",
       "      <td>19374968</td>\n",
       "    </tr>\n",
       "    <tr>\n",
       "      <th>10</th>\n",
       "      <td>Maharashtra</td>\n",
       "      <td>14427543</td>\n",
       "    </tr>\n",
       "    <tr>\n",
       "      <th>7</th>\n",
       "      <td>Karnataka</td>\n",
       "      <td>13523540</td>\n",
       "    </tr>\n",
       "    <tr>\n",
       "      <th>2</th>\n",
       "      <td>Delhi</td>\n",
       "      <td>11603818</td>\n",
       "    </tr>\n",
       "    <tr>\n",
       "      <th>9</th>\n",
       "      <td>Madhya Pradesh</td>\n",
       "      <td>8101142</td>\n",
       "    </tr>\n",
       "    <tr>\n",
       "      <th>0</th>\n",
       "      <td>Andhra Pradesh</td>\n",
       "      <td>8037146</td>\n",
       "    </tr>\n",
       "    <tr>\n",
       "      <th>5</th>\n",
       "      <td>Himachal Pradesh</td>\n",
       "      <td>4963368</td>\n",
       "    </tr>\n",
       "    <tr>\n",
       "      <th>4</th>\n",
       "      <td>Haryana</td>\n",
       "      <td>4220175</td>\n",
       "    </tr>\n",
       "    <tr>\n",
       "      <th>1</th>\n",
       "      <td>Bihar</td>\n",
       "      <td>4022757</td>\n",
       "    </tr>\n",
       "    <tr>\n",
       "      <th>3</th>\n",
       "      <td>Gujarat</td>\n",
       "      <td>3946082</td>\n",
       "    </tr>\n",
       "  </tbody>\n",
       "</table>\n",
       "</div>"
      ],
      "text/plain": [
       "               State    Amount\n",
       "14     Uttar Pradesh  19374968\n",
       "10       Maharashtra  14427543\n",
       "7          Karnataka  13523540\n",
       "2              Delhi  11603818\n",
       "9     Madhya Pradesh   8101142\n",
       "0     Andhra Pradesh   8037146\n",
       "5   Himachal Pradesh   4963368\n",
       "4            Haryana   4220175\n",
       "1              Bihar   4022757\n",
       "3            Gujarat   3946082"
      ]
     },
     "execution_count": 30,
     "metadata": {},
     "output_type": "execute_result"
    }
   ],
   "source": [
    "# Lets see State to Amounts\n",
    "df.groupby(['State'],as_index=False)['Amount'].sum().sort_values(by='Amount',ascending= False).head(10)"
   ]
  },
  {
   "cell_type": "code",
   "execution_count": 31,
   "id": "8850081e",
   "metadata": {
    "execution": {
     "iopub.execute_input": "2024-04-05T13:58:12.067142Z",
     "iopub.status.busy": "2024-04-05T13:58:12.066719Z",
     "iopub.status.idle": "2024-04-05T13:58:12.551333Z",
     "shell.execute_reply": "2024-04-05T13:58:12.550007Z"
    },
    "papermill": {
     "duration": 0.51316,
     "end_time": "2024-04-05T13:58:12.553886",
     "exception": false,
     "start_time": "2024-04-05T13:58:12.040726",
     "status": "completed"
    },
    "tags": []
   },
   "outputs": [
    {
     "data": {
      "text/plain": [
       "<Axes: xlabel='State', ylabel='Amount'>"
      ]
     },
     "execution_count": 31,
     "metadata": {},
     "output_type": "execute_result"
    },
    {
     "data": {
      "image/png": "[encoded data removed]",
      "text/plain": [
       "<Figure size 1800x500 with 1 Axes>"
      ]
     },
     "metadata": {},
     "output_type": "display_data"
    }
   ],
   "source": [
    "# lets see on graph\n",
    "state_amount=df.groupby(['State'],as_index=False)['Amount'].sum().sort_values(by='Amount',ascending=False).head(10)\n",
    "sns.set(rc={'figure.figsize':(18,5)})\n",
    "sns.barplot(x='State',y='Amount',data=state_amount)"
   ]
  },
  {
   "cell_type": "code",
   "execution_count": 32,
   "id": "3080c078",
   "metadata": {
    "execution": {
     "iopub.execute_input": "2024-04-05T13:58:12.607245Z",
     "iopub.status.busy": "2024-04-05T13:58:12.606580Z",
     "iopub.status.idle": "2024-04-05T13:58:12.611237Z",
     "shell.execute_reply": "2024-04-05T13:58:12.610171Z"
    },
    "papermill": {
     "duration": 0.033604,
     "end_time": "2024-04-05T13:58:12.613569",
     "exception": false,
     "start_time": "2024-04-05T13:58:12.579965",
     "status": "completed"
    },
    "tags": []
   },
   "outputs": [],
   "source": [
    "# most amount spending state is Uttar Pradesh as there orders are also high"
   ]
  },
  {
   "cell_type": "markdown",
   "id": "845ab3c3",
   "metadata": {
    "papermill": {
     "duration": 0.025028,
     "end_time": "2024-04-05T13:58:12.663618",
     "exception": false,
     "start_time": "2024-04-05T13:58:12.638590",
     "status": "completed"
    },
    "tags": []
   },
   "source": [
    "# Maritual Status to Amount"
   ]
  },
  {
   "cell_type": "code",
   "execution_count": 33,
   "id": "44aa64e1",
   "metadata": {
    "execution": {
     "iopub.execute_input": "2024-04-05T13:58:12.715947Z",
     "iopub.status.busy": "2024-04-05T13:58:12.715567Z",
     "iopub.status.idle": "2024-04-05T13:58:13.029044Z",
     "shell.execute_reply": "2024-04-05T13:58:13.027805Z"
    },
    "papermill": {
     "duration": 0.342876,
     "end_time": "2024-04-05T13:58:13.031563",
     "exception": false,
     "start_time": "2024-04-05T13:58:12.688687",
     "status": "completed"
    },
    "tags": []
   },
   "outputs": [
    {
     "data": {
      "image/png": "[encoded data removed]",
      "text/plain": [
       "<Figure size 1800x500 with 1 Axes>"
      ]
     },
     "metadata": {},
     "output_type": "display_data"
    }
   ],
   "source": [
    "# Check Marital status Count\n",
    "ax=sns.countplot(x='Marital_Status',data=df)\n",
    "sns.set(rc={'figure.figsize':(7,5)})\n",
    "for bars in ax.containers:\n",
    "    ax.bar_label(bars)\n",
    "    "
   ]
  },
  {
   "cell_type": "code",
   "execution_count": 34,
   "id": "ab1912f5",
   "metadata": {
    "execution": {
     "iopub.execute_input": "2024-04-05T13:58:13.086402Z",
     "iopub.status.busy": "2024-04-05T13:58:13.085721Z",
     "iopub.status.idle": "2024-04-05T13:58:13.098084Z",
     "shell.execute_reply": "2024-04-05T13:58:13.097052Z"
    },
    "papermill": {
     "duration": 0.042523,
     "end_time": "2024-04-05T13:58:13.100621",
     "exception": false,
     "start_time": "2024-04-05T13:58:13.058098",
     "status": "completed"
    },
    "tags": []
   },
   "outputs": [
    {
     "data": {
      "text/html": [
       "<div>\n",
       "<style scoped>\n",
       "    .dataframe tbody tr th:only-of-type {\n",
       "        vertical-align: middle;\n",
       "    }\n",
       "\n",
       "    .dataframe tbody tr th {\n",
       "        vertical-align: top;\n",
       "    }\n",
       "\n",
       "    .dataframe thead th {\n",
       "        text-align: right;\n",
       "    }\n",
       "</style>\n",
       "<table border=\"1\" class=\"dataframe\">\n",
       "  <thead>\n",
       "    <tr style=\"text-align: right;\">\n",
       "      <th></th>\n",
       "      <th>Marital_Status</th>\n",
       "      <th>Amount</th>\n",
       "    </tr>\n",
       "  </thead>\n",
       "  <tbody>\n",
       "    <tr>\n",
       "      <th>0</th>\n",
       "      <td>0</td>\n",
       "      <td>62125384</td>\n",
       "    </tr>\n",
       "    <tr>\n",
       "      <th>1</th>\n",
       "      <td>1</td>\n",
       "      <td>44123745</td>\n",
       "    </tr>\n",
       "  </tbody>\n",
       "</table>\n",
       "</div>"
      ],
      "text/plain": [
       "   Marital_Status    Amount\n",
       "0               0  62125384\n",
       "1               1  44123745"
      ]
     },
     "execution_count": 34,
     "metadata": {},
     "output_type": "execute_result"
    }
   ],
   "source": [
    "# We get married people are more 6518 and now let see amount spends\n",
    "df.groupby(['Marital_Status'],as_index=False)['Amount'].sum().sort_values(by='Amount',ascending=False)"
   ]
  },
  {
   "cell_type": "code",
   "execution_count": 35,
   "id": "597b4dff",
   "metadata": {
    "execution": {
     "iopub.execute_input": "2024-04-05T13:58:13.155920Z",
     "iopub.status.busy": "2024-04-05T13:58:13.154796Z",
     "iopub.status.idle": "2024-04-05T13:58:13.478423Z",
     "shell.execute_reply": "2024-04-05T13:58:13.477195Z"
    },
    "papermill": {
     "duration": 0.353738,
     "end_time": "2024-04-05T13:58:13.481224",
     "exception": false,
     "start_time": "2024-04-05T13:58:13.127486",
     "status": "completed"
    },
    "tags": []
   },
   "outputs": [
    {
     "data": {
      "text/plain": [
       "<Axes: xlabel='Marital_Status', ylabel='Amount'>"
      ]
     },
     "execution_count": 35,
     "metadata": {},
     "output_type": "execute_result"
    },
    {
     "data": {
      "image/png": "[encoded data removed]",
      "text/plain": [
       "<Figure size 500x600 with 1 Axes>"
      ]
     },
     "metadata": {},
     "output_type": "display_data"
    }
   ],
   "source": [
    "# Graphical representation\n",
    "marital_amount=df.groupby(['Marital_Status','Gender'],as_index=False)['Amount'].sum().sort_values(by='Amount',ascending=False)\n",
    "sns.set(rc={'figure.figsize':(5,6)})\n",
    "sns.barplot(x='Marital_Status',y='Amount',hue='Gender',data=marital_amount)"
   ]
  },
  {
   "cell_type": "code",
   "execution_count": 36,
   "id": "8600e6f8",
   "metadata": {
    "execution": {
     "iopub.execute_input": "2024-04-05T13:58:13.537387Z",
     "iopub.status.busy": "2024-04-05T13:58:13.536870Z",
     "iopub.status.idle": "2024-04-05T13:58:13.542146Z",
     "shell.execute_reply": "2024-04-05T13:58:13.540990Z"
    },
    "papermill": {
     "duration": 0.036838,
     "end_time": "2024-04-05T13:58:13.544717",
     "exception": false,
     "start_time": "2024-04-05T13:58:13.507879",
     "status": "completed"
    },
    "tags": []
   },
   "outputs": [],
   "source": [
    "# we can clearly see female married purchase most."
   ]
  },
  {
   "cell_type": "markdown",
   "id": "09dc78fb",
   "metadata": {
    "papermill": {
     "duration": 0.026026,
     "end_time": "2024-04-05T13:58:13.597463",
     "exception": false,
     "start_time": "2024-04-05T13:58:13.571437",
     "status": "completed"
    },
    "tags": []
   },
   "source": [
    "# Occupation to amount"
   ]
  },
  {
   "cell_type": "code",
   "execution_count": 37,
   "id": "40888139",
   "metadata": {
    "execution": {
     "iopub.execute_input": "2024-04-05T13:58:13.652039Z",
     "iopub.status.busy": "2024-04-05T13:58:13.651664Z",
     "iopub.status.idle": "2024-04-05T13:58:14.241778Z",
     "shell.execute_reply": "2024-04-05T13:58:14.240581Z"
    },
    "papermill": {
     "duration": 0.620876,
     "end_time": "2024-04-05T13:58:14.244683",
     "exception": false,
     "start_time": "2024-04-05T13:58:13.623807",
     "status": "completed"
    },
    "tags": []
   },
   "outputs": [
    {
     "data": {
      "image/png": "[encoded data removed]",
      "text/plain": [
       "<Figure size 500x600 with 1 Axes>"
      ]
     },
     "metadata": {},
     "output_type": "display_data"
    }
   ],
   "source": [
    "# Let see count of Occupation\n",
    "ax=sns.countplot(x='Occupation',data=df)\n",
    "sns.set(rc={'figure.figsize':(26,9)})\n",
    "for bars in ax.containers:\n",
    "    ax.bar_label(bars)"
   ]
  },
  {
   "cell_type": "code",
   "execution_count": 38,
   "id": "64e57058",
   "metadata": {
    "execution": {
     "iopub.execute_input": "2024-04-05T13:58:14.301073Z",
     "iopub.status.busy": "2024-04-05T13:58:14.300694Z",
     "iopub.status.idle": "2024-04-05T13:58:14.316045Z",
     "shell.execute_reply": "2024-04-05T13:58:14.314940Z"
    },
    "papermill": {
     "duration": 0.04672,
     "end_time": "2024-04-05T13:58:14.318692",
     "exception": false,
     "start_time": "2024-04-05T13:58:14.271972",
     "status": "completed"
    },
    "tags": []
   },
   "outputs": [
    {
     "data": {
      "text/html": [
       "<div>\n",
       "<style scoped>\n",
       "    .dataframe tbody tr th:only-of-type {\n",
       "        vertical-align: middle;\n",
       "    }\n",
       "\n",
       "    .dataframe tbody tr th {\n",
       "        vertical-align: top;\n",
       "    }\n",
       "\n",
       "    .dataframe thead th {\n",
       "        text-align: right;\n",
       "    }\n",
       "</style>\n",
       "<table border=\"1\" class=\"dataframe\">\n",
       "  <thead>\n",
       "    <tr style=\"text-align: right;\">\n",
       "      <th></th>\n",
       "      <th>Occupation</th>\n",
       "      <th>Amount</th>\n",
       "    </tr>\n",
       "  </thead>\n",
       "  <tbody>\n",
       "    <tr>\n",
       "      <th>10</th>\n",
       "      <td>IT Sector</td>\n",
       "      <td>14755079</td>\n",
       "    </tr>\n",
       "    <tr>\n",
       "      <th>8</th>\n",
       "      <td>Healthcare</td>\n",
       "      <td>13034586</td>\n",
       "    </tr>\n",
       "    <tr>\n",
       "      <th>2</th>\n",
       "      <td>Aviation</td>\n",
       "      <td>12602298</td>\n",
       "    </tr>\n",
       "    <tr>\n",
       "      <th>3</th>\n",
       "      <td>Banking</td>\n",
       "      <td>10770610</td>\n",
       "    </tr>\n",
       "    <tr>\n",
       "      <th>7</th>\n",
       "      <td>Govt</td>\n",
       "      <td>8517212</td>\n",
       "    </tr>\n",
       "    <tr>\n",
       "      <th>9</th>\n",
       "      <td>Hospitality</td>\n",
       "      <td>6376405</td>\n",
       "    </tr>\n",
       "    <tr>\n",
       "      <th>12</th>\n",
       "      <td>Media</td>\n",
       "      <td>6295832</td>\n",
       "    </tr>\n",
       "    <tr>\n",
       "      <th>1</th>\n",
       "      <td>Automobile</td>\n",
       "      <td>5368596</td>\n",
       "    </tr>\n",
       "    <tr>\n",
       "      <th>4</th>\n",
       "      <td>Chemical</td>\n",
       "      <td>5297436</td>\n",
       "    </tr>\n",
       "    <tr>\n",
       "      <th>11</th>\n",
       "      <td>Lawyer</td>\n",
       "      <td>4981665</td>\n",
       "    </tr>\n",
       "  </tbody>\n",
       "</table>\n",
       "</div>"
      ],
      "text/plain": [
       "     Occupation    Amount\n",
       "10    IT Sector  14755079\n",
       "8    Healthcare  13034586\n",
       "2      Aviation  12602298\n",
       "3       Banking  10770610\n",
       "7          Govt   8517212\n",
       "9   Hospitality   6376405\n",
       "12        Media   6295832\n",
       "1    Automobile   5368596\n",
       "4      Chemical   5297436\n",
       "11       Lawyer   4981665"
      ]
     },
     "execution_count": 38,
     "metadata": {},
     "output_type": "execute_result"
    }
   ],
   "source": [
    "# Now lets see amount spent by occupation\n",
    "df.groupby(['Occupation'],as_index=False)['Amount'].sum().sort_values(by='Amount',ascending=False).head(10)"
   ]
  },
  {
   "cell_type": "code",
   "execution_count": 39,
   "id": "adbe44a5",
   "metadata": {
    "execution": {
     "iopub.execute_input": "2024-04-05T13:58:14.375849Z",
     "iopub.status.busy": "2024-04-05T13:58:14.375455Z",
     "iopub.status.idle": "2024-04-05T13:58:15.005351Z",
     "shell.execute_reply": "2024-04-05T13:58:15.004105Z"
    },
    "papermill": {
     "duration": 0.661719,
     "end_time": "2024-04-05T13:58:15.008026",
     "exception": false,
     "start_time": "2024-04-05T13:58:14.346307",
     "status": "completed"
    },
    "tags": []
   },
   "outputs": [
    {
     "data": {
      "text/plain": [
       "<Axes: xlabel='Occupation', ylabel='Amount'>"
      ]
     },
     "execution_count": 39,
     "metadata": {},
     "output_type": "execute_result"
    },
    {
     "data": {
      "image/png": "[encoded data removed]",
      "text/plain": [
       "<Figure size 2400x900 with 1 Axes>"
      ]
     },
     "metadata": {},
     "output_type": "display_data"
    }
   ],
   "source": [
    "# Now let see by Graph\n",
    "occupation_amount=df.groupby(['Occupation'],as_index=False)['Amount'].sum().sort_values(by='Amount',ascending=False)\n",
    "sns.set(rc={'figure.figsize':(24,9)})\n",
    "sns.barplot(x='Occupation',y='Amount',data=occupation_amount)"
   ]
  },
  {
   "cell_type": "code",
   "execution_count": 40,
   "id": "a508111f",
   "metadata": {
    "execution": {
     "iopub.execute_input": "2024-04-05T13:58:15.067209Z",
     "iopub.status.busy": "2024-04-05T13:58:15.066822Z",
     "iopub.status.idle": "2024-04-05T13:58:15.073613Z",
     "shell.execute_reply": "2024-04-05T13:58:15.072075Z"
    },
    "papermill": {
     "duration": 0.038731,
     "end_time": "2024-04-05T13:58:15.075550",
     "exception": true,
     "start_time": "2024-04-05T13:58:15.036819",
     "status": "failed"
    },
    "tags": []
   },
   "outputs": [
    {
     "ename": "SyntaxError",
     "evalue": "invalid syntax (3176600944.py, line 1)",
     "output_type": "error",
     "traceback": [
      "\u001b[0;36m  Cell \u001b[0;32mIn[40], line 1\u001b[0;36m\u001b[0m\n\u001b[0;31m    it health care aviation\u001b[0m\n\u001b[0m       ^\u001b[0m\n\u001b[0;31mSyntaxError\u001b[0m\u001b[0;31m:\u001b[0m invalid syntax\n"
     ]
    }
   ],
   "source": [
    "it health care aviation"
   ]
  },
  {
   "cell_type": "markdown",
   "id": "e7963852",
   "metadata": {
    "papermill": {
     "duration": null,
     "end_time": null,
     "exception": null,
     "start_time": null,
     "status": "pending"
    },
    "tags": []
   },
   "source": [
    "# Product Category"
   ]
  },
  {
   "cell_type": "code",
   "execution_count": null,
   "id": "cd763c74",
   "metadata": {
    "execution": {
     "iopub.execute_input": "2024-03-31T05:47:38.855549Z",
     "iopub.status.busy": "2024-03-31T05:47:38.855081Z",
     "iopub.status.idle": "2024-03-31T05:47:39.968155Z",
     "shell.execute_reply": "2024-03-31T05:47:39.966719Z",
     "shell.execute_reply.started": "2024-03-31T05:47:38.855510Z"
    },
    "papermill": {
     "duration": null,
     "end_time": null,
     "exception": null,
     "start_time": null,
     "status": "pending"
    },
    "tags": []
   },
   "outputs": [],
   "source": [
    "# Products counts\n",
    "ax=sns.countplot(x='Product_Category',data=df)\n",
    "sns.set(rc={'figure.figsize':(35,25)})\n",
    "for bars in ax.containers:\n",
    "    ax.bar_label(bars)\n"
   ]
  },
  {
   "cell_type": "code",
   "execution_count": null,
   "id": "62ed0db4",
   "metadata": {
    "execution": {
     "iopub.execute_input": "2024-03-31T05:51:28.687227Z",
     "iopub.status.busy": "2024-03-31T05:51:28.686726Z",
     "iopub.status.idle": "2024-03-31T05:51:28.714397Z",
     "shell.execute_reply": "2024-03-31T05:51:28.712407Z",
     "shell.execute_reply.started": "2024-03-31T05:51:28.687191Z"
    },
    "papermill": {
     "duration": null,
     "end_time": null,
     "exception": null,
     "start_time": null,
     "status": "pending"
    },
    "tags": []
   },
   "outputs": [],
   "source": [
    "# Product_Category and Amount\n",
    "df.groupby(['Product_Category'],as_index=False)['Amount'].sum().sort_values(by='Amount',ascending=False)"
   ]
  },
  {
   "cell_type": "code",
   "execution_count": null,
   "id": "a92025b8",
   "metadata": {
    "execution": {
     "iopub.execute_input": "2024-03-31T05:56:08.946536Z",
     "iopub.status.busy": "2024-03-31T05:56:08.945289Z",
     "iopub.status.idle": "2024-03-31T05:56:09.956763Z",
     "shell.execute_reply": "2024-03-31T05:56:09.955597Z",
     "shell.execute_reply.started": "2024-03-31T05:56:08.946483Z"
    },
    "papermill": {
     "duration": null,
     "end_time": null,
     "exception": null,
     "start_time": null,
     "status": "pending"
    },
    "tags": []
   },
   "outputs": [],
   "source": [
    "# Now see its graphical Representation\n",
    "product_amount=df.groupby(['Product_Category'],as_index=False)['Amount'].sum().sort_values(by='Amount',ascending=False)\n",
    "sns.set(rc={'figure.figsize':(45,20)})\n",
    "sns.barplot(x='Product_Category',y='Amount',data=product_amount)\n"
   ]
  },
  {
   "cell_type": "code",
   "execution_count": null,
   "id": "08f61f4d",
   "metadata": {
    "papermill": {
     "duration": null,
     "end_time": null,
     "exception": null,
     "start_time": null,
     "status": "pending"
    },
    "tags": []
   },
   "outputs": [],
   "source": [
    "# Most amount spends on Foods ."
   ]
  },
  {
   "cell_type": "markdown",
   "id": "fc026973",
   "metadata": {
    "papermill": {
     "duration": null,
     "end_time": null,
     "exception": null,
     "start_time": null,
     "status": "pending"
    },
    "tags": []
   },
   "source": [
    "# Conclusion"
   ]
  },
  {
   "cell_type": "markdown",
   "id": "b4c18403",
   "metadata": {
    "papermill": {
     "duration": null,
     "end_time": null,
     "exception": null,
     "start_time": null,
     "status": "pending"
    },
    "tags": []
   },
   "source": [
    "Here we came to our Final Conclusion , I came with an strong Observation and strategy for Next Year sales also.\n",
    "We have to Maximum Slaes from Customers who are Females both married or not married with age range of 25-36.\n",
    "Our most Orders from and Amount we generated from Uttar Pradesh.\n",
    "Our Key Customers are IT sector , Health care and Aviation working professional.\n",
    "Our maximum sales from Food Product Category.\n",
    "\n",
    "We have come with an solution that we have keep focused on these key areas we have focused for making our sales maximum for Next Year Diwali .\n",
    "\n",
    "Thank You.\n",
    "Parag"
   ]
  }
 ],
 "metadata": {
  "kaggle": {
   "accelerator": "none",
   "dataSources": [
    {
     "datasetId": 4686517,
     "sourceId": 7965594,
     "sourceType": "datasetVersion"
    }
   ],
   "dockerImageVersionId": 30673,
   "isGpuEnabled": false,
   "isInternetEnabled": true,
   "language": "python",
   "sourceType": "notebook"
  },
  "kernelspec": {
   "display_name": "Python 3",
   "language": "python",
   "name": "python3"
  },
  "language_info": {
   "codemirror_mode": {
    "name": "ipython",
    "version": 3
   },
   "file_extension": ".py",
   "mimetype": "text/x-python",
   "name": "python",
   "nbconvert_exporter": "python",
   "pygments_lexer": "ipython3",
   "version": "3.10.13"
  },
  "papermill": {
   "default_parameters": {},
   "duration": 13.408941,
   "end_time": "2024-04-05T13:58:15.725006",
   "environment_variables": {},
   "exception": true,
   "input_path": "__notebook__.ipynb",
   "output_path": "__notebook__.ipynb",
   "parameters": {},
   "start_time": "2024-04-05T13:58:02.316065",
   "version": "2.5.0"
  }
 },
 "nbformat": 4,
 "nbformat_minor": 5
}
